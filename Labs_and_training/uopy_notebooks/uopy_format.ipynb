{
 "cells": [
  {
   "cell_type": "markdown",
   "metadata": {},
   "source": [
    "<a id='main'></a>\n",
    "![logo](img/logo.png)"
   ]
  },
  {
   "cell_type": "markdown",
   "metadata": {},
   "source": [
    "# Using uopy to format text"
   ]
  },
  {
   "cell_type": "markdown",
   "metadata": {},
   "source": [
    "While it is probobly a better idea to do the formating on the client, you can take the overhead and send the string back to the server for formating."
   ]
  },
  {
   "cell_type": "code",
   "execution_count": 1,
   "metadata": {},
   "outputs": [],
   "source": [
    "import uopy"
   ]
  },
  {
   "cell_type": "markdown",
   "metadata": {},
   "source": [
    "# Making the connection"
   ]
  },
  {
   "cell_type": "code",
   "execution_count": 2,
   "metadata": {},
   "outputs": [
    {
     "name": "stdout",
     "output_type": "stream",
     "text": [
      "<uopy._session.Session object {'host': 'localhost', 'account': 'C:\\\\U2\\\\ud83\\\\XDEMO', 'port': 31438, 'timeout': 300, 'service': 'udcs', 'encoding': 'GB18030', 'ssl': False, 'user': 'mrajkowski', 'password': ''} at 0x00000262D0AA4510>\n"
     ]
    }
   ],
   "source": [
    "import uopy\n",
    "import getpass\n",
    "user = input(\"Enter user name? \")\n",
    "passwd = getpass.getpass(\"Enter Password? \")\n",
    "\n",
    "def makeconnection(user, password):\n",
    "    config = {\n",
    "             'user': user,\n",
    "             'password': passwd,\n",
    "             'service': 'udcs',\n",
    "             'account': 'C:\\\\U2\\\\ud83\\\\XDEMO',\n",
    "             'encoding': 'GB18030',\n",
    "             'pooling_on': 'True',\n",
    "             'min_pool_size': 5, \n",
    "             'max_pool_size': 10\n",
    "         }\n",
    "    thissession = uopy.connect(**config)\n",
    "    return thissession\n",
    "session = makeconnection(user, passwd)mr\n",
    "print(str(session))"
   ]
  },
  {
   "cell_type": "markdown",
   "metadata": {},
   "source": [
    "### Note that it is possible to take a string, and pass it to the erver for formatting, like you do in BASIC."
   ]
  },
  {
   "cell_type": "code",
   "execution_count": 3,
   "metadata": {},
   "outputs": [
    {
     "name": "stdout",
     "output_type": "stream",
     "text": [
      "(212)-555-2368\n"
     ]
    }
   ],
   "source": [
    "\n",
    "def server_side_format_phone_number(phone_number):\n",
    "    if len(phone_number) != 10 or not phone_number.isdigit():\n",
    "        return \"Invalid phone number\"\n",
    "    else:\n",
    "        phone_in = uopy.DynArray(phone_number)\n",
    "        return phone_in.format(\"14R(###)-###-####\")\n",
    "\n",
    "phone_number = \"2125552368\"\n",
    "formatatted_number = server_side_format_phone_number(phone_number)\n",
    "print(formatatted_number)\n",
    "\n"
   ]
  },
  {
   "cell_type": "markdown",
   "metadata": {},
   "source": [
    "### Yet, it it is possible to do te formatting directly in Python"
   ]
  },
  {
   "cell_type": "code",
   "execution_count": 4,
   "metadata": {},
   "outputs": [
    {
     "name": "stdout",
     "output_type": "stream",
     "text": [
      "(212) 555-2368\n"
     ]
    }
   ],
   "source": [
    "def format_phone_number(phone_number):\n",
    "    if len(phone_number) != 10 or not phone_number.isdigit():\n",
    "        return \"Invalid phone number\"\n",
    "    return f\"({phone_number[0:3]}) {phone_number[3:6]}-{phone_number[6:10]}\"\n",
    "\n",
    "phone_number = \"2125552368\"\n",
    "formatted_number = format_phone_number(phone_number)\n",
    "print(formatted_number)  \n"
   ]
  },
  {
   "cell_type": "markdown",
   "metadata": {},
   "source": [
    "#### Note that the pure Python code will be quicker, since it does not need to talk to the server "
   ]
  }
 ],
 "metadata": {
  "kernelspec": {
   "display_name": "Python 3",
   "language": "python",
   "name": "python3"
  },
  "language_info": {
   "codemirror_mode": {
    "name": "ipython",
    "version": 3
   },
   "file_extension": ".py",
   "mimetype": "text/x-python",
   "name": "python",
   "nbconvert_exporter": "python",
   "pygments_lexer": "ipython3",
   "version": "3.11.1"
  }
 },
 "nbformat": 4,
 "nbformat_minor": 4
}
