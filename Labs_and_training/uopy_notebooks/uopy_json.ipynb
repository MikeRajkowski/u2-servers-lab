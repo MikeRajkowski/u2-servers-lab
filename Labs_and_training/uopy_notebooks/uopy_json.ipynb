{
 "cells": [
  {
   "cell_type": "markdown",
   "metadata": {},
   "source": [
    "<img src='./img/logo.png'></img>"
   ]
  },
  {
   "cell_type": "markdown",
   "metadata": {},
   "source": [
    "# UOPY Example - Working with JSON Best Practices"
   ]
  },
  {
   "cell_type": "markdown",
   "metadata": {},
   "source": [
    "# Making the connection\n",
    "\n",
    "The followinf code is a simple example to connect to a local U2 Database.  In this example I am connecting to UniData, but the code would work the same against UniVerse, the only thing you woul dneed to modify is the servce and account settings."
   ]
  },
  {
   "cell_type": "code",
   "execution_count": 4,
   "metadata": {},
   "outputs": [
    {
     "name": "stdout",
     "output_type": "stream",
     "text": [
      "<uopy._session.Session object {'host': 'localhost', 'account': 'C:\\\\U2\\\\ud83\\\\XDEMO', 'port': 31438, 'timeout': 300, 'service': 'udcs', 'encoding': 'GB18030', 'ssl': False, 'user': 'mrajkowski', 'password': ''} at 0x0000027A2B9E6610>\n"
     ]
    }
   ],
   "source": [
    "import uopy\n",
    "import getpass\n",
    "user = input(\"Enter user name? \")\n",
    "passwd = getpass.getpass(\"Enter Password? \")\n",
    "\n",
    "def makeconnection(user, password):\n",
    "    config = {\n",
    "             'user': user,\n",
    "             'password': passwd,\n",
    "             'service': 'udcs',\n",
    "             'account': 'C:\\\\U2\\\\ud83\\\\XDEMO',\n",
    "             'encoding': 'GB18030',\n",
    "             'pooling_on': 'False'\n",
    "         }\n",
    "    thissession = uopy.connect(**config)\n",
    "    return thissession\n",
    "session = makeconnection(user, passwd)\n",
    "print(str(session))"
   ]
  },
  {
   "cell_type": "markdown",
   "metadata": {},
   "source": [
    "# Read in a JSON document\n",
    "\n",
    "Note that to in this example, I am limiting my discussion on how to create and consume JSON.  I am using the TOJSON keyword to generate the JSON from a U2 File, in this case the MEMBERS file in the XDEMO account."
   ]
  },
  {
   "cell_type": "code",
   "execution_count": 5,
   "metadata": {},
   "outputs": [
    {
     "name": "stdout",
     "output_type": "stream",
     "text": [
      "{\n",
      "\"REGION\":[\n",
      " {\"_ID\" : \"3\",\"NAME\" : \"West\",\"REGION_SALES\" : \"717038\"\n",
      " },\n",
      " {\"_ID\" : \"1\",\"NAME\" : \"East\",\"REGION_SALES\" : \"1202538\"\n",
      " },\n",
      " {\"_ID\" : \"2\",\"NAME\" : \"Central\",\"REGION_SALES\" : \"1393565\"\n",
      " }\n",
      "]\n",
      "}\n",
      "\n"
     ]
    }
   ],
   "source": [
    "import pprint\n",
    "\n",
    "cmd = uopy.Command(\"LIST REGION NAME REGION_SALES SAMPLE 3 TOJSON\")\n",
    "st = cmd.run()\n",
    "out = cmd.response\n",
    "print(out)\n",
    "\n"
   ]
  },
  {
   "cell_type": "markdown",
   "metadata": {},
   "source": [
    "# Converting the string to a Python Dictionary with eval() function\n",
    "\n",
    "Note that while this is an easy way, it could be exploited by hackers.\n"
   ]
  },
  {
   "cell_type": "code",
   "execution_count": 6,
   "metadata": {},
   "outputs": [
    {
     "name": "stdout",
     "output_type": "stream",
     "text": [
      "<class 'dict'>\n",
      "{'REGION': [{'NAME': 'West', 'REGION_SALES': '717038', '_ID': '3'},\n",
      "            {'NAME': 'East', 'REGION_SALES': '1202538', '_ID': '1'},\n",
      "            {'NAME': 'Central', 'REGION_SALES': '1393565', '_ID': '2'}]}\n"
     ]
    }
   ],
   "source": [
    "data = eval(out)\n",
    "\n",
    "print(type(data))\n",
    "pprint.pprint(data)"
   ]
  },
  {
   "cell_type": "markdown",
   "metadata": {},
   "source": [
    "As you can see with one command, I changed the string to a python dictionary object.  The problem arises when you are not in control of what is being passed into the eval function.\n"
   ]
  },
  {
   "cell_type": "code",
   "execution_count": 7,
   "metadata": {},
   "outputs": [
    {
     "name": "stdout",
     "output_type": "stream",
     "text": [
      "This is an example of the eval() function executing commands.\n"
     ]
    }
   ],
   "source": [
    "code_string = 'print(\"This is an example of the eval() function executing commands.\")'\n",
    "eval(code_string)"
   ]
  },
  {
   "cell_type": "markdown",
   "metadata": {},
   "source": [
    "# Using the Python json module\n",
    "\n",
    "A better way of dealing with the json string is to marshel it to a Python dictionary with the built-in json module.\n"
   ]
  },
  {
   "cell_type": "code",
   "execution_count": 8,
   "metadata": {},
   "outputs": [
    {
     "name": "stdout",
     "output_type": "stream",
     "text": [
      "<class 'dict'>\n",
      "{'REGION': [{'NAME': 'West', 'REGION_SALES': '717038', '_ID': '3'},\n",
      "            {'NAME': 'East', 'REGION_SALES': '1202538', '_ID': '1'},\n",
      "            {'NAME': 'Central', 'REGION_SALES': '1393565', '_ID': '2'}]}\n"
     ]
    }
   ],
   "source": [
    "import json\n",
    "\n",
    "try: \n",
    "    jdata = json.loads(out)\n",
    "    print(type(jdata))\n",
    "    pprint.pprint(jdata)\n",
    "except:\n",
    "    print(\"problem with json\")"
   ]
  },
  {
   "cell_type": "markdown",
   "metadata": {},
   "source": [
    "Note that by using the json.loads method, we prevent a non-json string from causing a problem."
   ]
  },
  {
   "cell_type": "code",
   "execution_count": 10,
   "metadata": {},
   "outputs": [
    {
     "name": "stdout",
     "output_type": "stream",
     "text": [
      "code_stringprint(\"This is an example of the eval() function executing commands.\")\n",
      "problem with json\n"
     ]
    }
   ],
   "source": [
    "try: \n",
    "    print(\"code_string\" + code_string)\n",
    "    jdata = json.loads(code_string)\n",
    "    print(type(jdata))\n",
    "    pprint.pprint(jdata)\n",
    "except:\n",
    "    print(\"problem with json\")"
   ]
  },
  {
   "cell_type": "markdown",
   "metadata": {},
   "source": [
    "# Once you have the json, you can display some of the information"
   ]
  },
  {
   "cell_type": "code",
   "execution_count": 11,
   "metadata": {},
   "outputs": [
    {
     "name": "stdout",
     "output_type": "stream",
     "text": [
      "3 is for  West, with sales of 717038\n",
      "1 is for  East, with sales of 1202538\n",
      "2 is for  Central, with sales of 1393565\n"
     ]
    }
   ],
   "source": [
    "mydict = dict()\n",
    "for each in jdata[\"REGION\"]:\n",
    "    print(each[\"_ID\"] + \" is for \" + \" \" + each[\"NAME\"] + \", with sales of \" + each[\"REGION_SALES\"])\n",
    "    mydict[each[\"_ID\"]] = each\n",
    "    \n"
   ]
  },
  {
   "cell_type": "markdown",
   "metadata": {},
   "source": [
    "## Lets look at one of the Python Dict objects a bit closer"
   ]
  },
  {
   "cell_type": "code",
   "execution_count": 14,
   "metadata": {},
   "outputs": [
    {
     "name": "stdout",
     "output_type": "stream",
     "text": [
      "{'NAME': 'East', 'REGION_SALES': '1202538', '_ID': '1'}\n",
      "\n",
      "With the Python dict object, we can access each named-value pair, for example just the NAME:\n",
      "East\n"
     ]
    }
   ],
   "source": [
    "this_obj = mydict[\"1\"]\n",
    "pprint.pprint(this_obj)\n",
    "print()\n",
    "print(\"With the Python dict object, we can access each named-value pair, for example just the NAME:\")\n",
    "\n",
    "print(this_obj[\"NAME\"])"
   ]
  },
  {
   "cell_type": "markdown",
   "metadata": {},
   "source": [
    "## Preparing for writing to a new U2 file\n",
    "\n",
    "Step 1: Get the Keys and the Values\n",
    "Step 2: Create the file"
   ]
  },
  {
   "cell_type": "code",
   "execution_count": 15,
   "metadata": {},
   "outputs": [
    {
     "name": "stdout",
     "output_type": "stream",
     "text": [
      "dict_keys(['3', '1', '2'])\n",
      "dict_values([{'_ID': '3', 'NAME': 'West', 'REGION_SALES': '717038'}, {'_ID': '1', 'NAME': 'East', 'REGION_SALES': '1202538'}, {'_ID': '2', 'NAME': 'Central', 'REGION_SALES': '1393565'}])\n"
     ]
    }
   ],
   "source": [
    "keys = mydict.keys()\n",
    "values = mydict.values()\n",
    "print(keys)\n",
    "print(values)"
   ]
  },
  {
   "cell_type": "markdown",
   "metadata": {},
   "source": [
    "## Create the U2 file and dictionary ( Note this is a UniData example )\n"
   ]
  },
  {
   "cell_type": "code",
   "execution_count": 17,
   "metadata": {},
   "outputs": [
    {
     "name": "stdout",
     "output_type": "stream",
     "text": [
      "file opened\n",
      "<class 'uopy._file.File'>\n"
     ]
    }
   ],
   "source": [
    "file_needed = 0\n",
    "filename = \"NEW_REGION\"\n",
    "try:\n",
    "    file = uopy.File(filename)\n",
    "    dfile = uopy.File(filename, uopy.DICT_FILE )\n",
    "    print(\"file opened\")\n",
    "except: \n",
    "    print(\"The file \" + filename + \" does not exist\")\n",
    "    file_needed = 1\n",
    "\n",
    "try:\n",
    "    if file_needed:\n",
    "        cmd = uopy.Command(\"CREATE.FILE \" + filename + \" 3 11\")\n",
    "        cmd.run()\n",
    "        print(\"file created\")\n",
    "        file = uopy.File(\"DATASOURCE\")\n",
    "        dfile = uopy.File(filename, uopy.DICT_FILE )\n",
    "        print(\"now the file is opened\")\n",
    "except:\n",
    "    print(\"still an issue with the file\")\n",
    "    \n",
    "print(type(file))"
   ]
  },
  {
   "cell_type": "markdown",
   "metadata": {},
   "source": [
    "# Create U2 Dictionary items\n",
    "\n",
    "Note this will step through the keys extracted in the last section and create d-type dictionary items.\n"
   ]
  },
  {
   "cell_type": "code",
   "execution_count": 18,
   "metadata": {},
   "outputs": [
    {
     "name": "stdout",
     "output_type": "stream",
     "text": [
      "<class 'dict'>\n",
      "_ID will be location 1\n",
      "NAME will be location 2\n",
      "REGION_SALES will be location 3\n",
      "LIST DICT NEW_REGION BY TYP BY @ID TYP LOC CONV NAME FORMAT SM ASSOC 14:06:17 May 09 2025 1\n",
      "@ID............ TYP LOC.......... CONV NAME........... FORMAT SM ASSOC.....\n",
      " \n",
      "@ID             D               0      NEW_REGION      10L    S\n",
      "NAME            D               2      NAME            10L    S\n",
      "REGION_SALES    D               3      REGION_SALES    10L    S\n",
      "_ID             D               1      _ID             10L    S\n",
      "4 records listed\n",
      " \n",
      "\n",
      "\n",
      "\n",
      "\n",
      "\n",
      "\n",
      "\n",
      "\n",
      "\n",
      "\n",
      "\n",
      "\n",
      "\n",
      "\n"
     ]
    }
   ],
   "source": [
    "one_obj = list(values)[0]\n",
    "print(type(one_obj))\n",
    "one_set_of_keys = one_obj.keys()\n",
    "cnt = 0\n",
    "for each_key in one_set_of_keys:\n",
    "    cnt += 1\n",
    "    print(each_key + \" will be location \" + str(cnt))\n",
    "    rec = [ \"D\", cnt, \"\", each_key, \"10L\", \"S\"]\n",
    "    dfile.write(each_key, rec)\n",
    "    \n",
    "cmd = uopy.Command(\"LIST DICT \" + filename)\n",
    "cmd.run()\n",
    "print(cmd.response)"
   ]
  },
  {
   "cell_type": "markdown",
   "metadata": {},
   "source": [
    "# Now load the data\n",
    "\n",
    "For this example, I am only loading the first object to the file"
   ]
  },
  {
   "cell_type": "code",
   "execution_count": 20,
   "metadata": {},
   "outputs": [
    {
     "name": "stdout",
     "output_type": "stream",
     "text": [
      "['_ID', 'NAME', 'REGION_SALES']\n",
      "[['3', 'West', '717038']]\n",
      "LIST NEW_REGION ALL 14:07:05 May 09 2025 1\n",
      "NEW_REGION _ID....... NAME...... REGION_SALES\n",
      " \n",
      "3          3          West       717038\n",
      "1 record listed\n",
      " \n",
      "\n",
      "\n",
      "\n",
      "\n",
      "\n",
      "\n",
      "\n",
      "\n",
      "\n",
      "\n",
      "\n",
      "\n",
      "\n",
      "\n",
      "\n",
      "\n",
      "\n",
      "\n"
     ]
    }
   ],
   "source": [
    "this_key = list(keys)[0]\n",
    "the_fields = list(one_obj.keys())\n",
    "the_values = [ list(one_obj.values()) ]\n",
    "print(the_fields) \n",
    "print(the_values)\n",
    "st = file.write_named_fields(this_key, the_fields, the_values)\n",
    "\n",
    "# Note 'ALL' is only in UniData\n",
    "cmd = uopy.Command(\"LIST \" + filename + \" ALL\")\n",
    "cmd.run()\n",
    "print(cmd.response)\n"
   ]
  }
 ],
 "metadata": {
  "kernelspec": {
   "display_name": "Python 3",
   "language": "python",
   "name": "python3"
  },
  "language_info": {
   "codemirror_mode": {
    "name": "ipython",
    "version": 3
   },
   "file_extension": ".py",
   "mimetype": "text/x-python",
   "name": "python",
   "nbconvert_exporter": "python",
   "pygments_lexer": "ipython3",
   "version": "3.11.1"
  }
 },
 "nbformat": 4,
 "nbformat_minor": 4
}
