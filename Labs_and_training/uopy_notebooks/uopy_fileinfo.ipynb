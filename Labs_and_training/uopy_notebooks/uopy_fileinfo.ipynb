{
 "cells": [
  {
   "attachments": {},
   "cell_type": "markdown",
   "metadata": {},
   "source": [
    "<a id='main'></a>\n",
    "![logo](img/logo.png)"
   ]
  },
  {
   "attachments": {},
   "cell_type": "markdown",
   "metadata": {},
   "source": []
  },
  {
   "attachments": {},
   "cell_type": "markdown",
   "metadata": {},
   "source": [
    "# Getting File Information after Open"
   ]
  },
  {
   "cell_type": "code",
   "execution_count": 1,
   "metadata": {},
   "outputs": [],
   "source": [
    "import uopy\n",
    "import getpass\n",
    "user = input(\"Enter user name? \")\n",
    "passwd = getpass.getpass(\"Enter Password? \")"
   ]
  },
  {
   "cell_type": "markdown",
   "metadata": {},
   "source": [
    "# Making the connection"
   ]
  },
  {
   "cell_type": "code",
   "execution_count": 2,
   "metadata": {},
   "outputs": [
    {
     "name": "stdout",
     "output_type": "stream",
     "text": [
      "<uopy._session.Session object {'host': 'localhost', 'account': 'demo', 'port': 31438, 'timeout': 300, 'service': 'udcs', 'encoding': 'GB18030', 'ssl': False, 'user': 'mrajkowski', 'password': ''} at 0x000002A74C817D50>\n"
     ]
    }
   ],
   "source": [
    "\n",
    "def makeconnection(user, password):\n",
    "    config = {\n",
    "             'user': user,\n",
    "             'password': passwd,\n",
    "             'service': 'udcs',\n",
    "             'host':    'localhost',\n",
    "             'account': 'demo',\n",
    "             'encoding': 'GB18030',\n",
    "         }\n",
    "    try:\n",
    "        status = 0\n",
    "        thissession = uopy.connect(**config)\n",
    "    except uopy.UOError as e:\n",
    "        #print(str(e.code))\n",
    "        #print(str(e.message))\n",
    "        connection_help(e)\n",
    "        status = e.code\n",
    "        thissession = \"not connected\"\n",
    "    return status, thissession\n",
    "\n",
    "def connection_help(the_connection_exception):\n",
    "    if type(the_connection_exception) == uopy.UOError:\n",
    "        print(\"\")\n",
    "        print(\"The connection attempt made it to the server, but there was an error.\")\n",
    "        print(\"\")\n",
    "        print(\"   Error code: \" + str(the_connection_exception.code))\n",
    "        print(\"Error message: \" + str(the_connection_exception.message))\n",
    "        print(\"\")\n",
    "\n",
    "    print(\"\")\n",
    "    print(\"---\")\n",
    "\n",
    "status, session = makeconnection(user, passwd)\n",
    "print(str(session))\n"
   ]
  },
  {
   "attachments": {},
   "cell_type": "markdown",
   "metadata": {},
   "source": [
    "# Getting file infromation from the MEMBERS file"
   ]
  },
  {
   "cell_type": "code",
   "execution_count": 3,
   "metadata": {},
   "outputs": [
    {
     "name": "stdout",
     "output_type": "stream",
     "text": [
      "File Type:      2\n",
      "File Hash Type: 0\n",
      "File Name:      MEMBERS\n",
      "File Modulus:   373\n",
      "File Bllsize:   4096\n",
      "File is64Bit:   0\n"
     ]
    }
   ],
   "source": [
    "uopy.Command(\"LOGTO XDEMO\").run()\n",
    "f = uopy.File(\"MEMBERS\")\n",
    "a = f.fileInfoEx()\n",
    "print(\"File Type:      \" + f.type)\n",
    "print(\"File Hash Type: \" + f.hashAlg)\n",
    "print(\"File Name:      \" + f.relname)\n",
    "print(\"File Modulus:   \" + f.modulus)\n",
    "print(\"File Bllsize:   \" + f.blksize)\n",
    "print(\"File is64Bit:   \" + f.is64bit)\n",
    "if f.is64bit == 1:\n",
    "    print(\"And this is a 64Bit file\")\n"
   ]
  },
  {
   "cell_type": "markdown",
   "metadata": {},
   "source": [
    "## Note that the File Type is different for UniData and UniVerse\n",
    "\n",
    "### For UniData type: File type.</h>\n",
    "    2 - HASHED\n",
    "    3 - DYNAMIC\n",
    "    4 - DIRECTORY\n",
    "    5 - SEQUENTIAL\n",
    "    7 - NFA\n",
    "    8 - OS\n",
    "\n",
    "### For UniVerse type: File Type\n",
    "    1 - Static hashed \n",
    "    3 - Dynamic hashed\n",
    "    4 - Type 1/19 \n",
    "    5 - Sequential \n",
    "    7 - Distributed and Multivolume\n",
    "\n",
    "## You can also show all the properties of the uopy.File object with the following"
   ]
  },
  {
   "cell_type": "code",
   "execution_count": 4,
   "metadata": {},
   "outputs": [
    {
     "name": "stdout",
     "output_type": "stream",
     "text": [
      "_session : <uopy._session.Session object {'host': 'localhost', 'account': 'demo', 'port': 31438, 'timeout': 300, 'service': 'udcs', 'encoding': 'GB18030', 'ssl': False, 'user': 'mrajkowski', 'password': ''} at 0x000002A74C817D50>\n",
      "_lock : <unlocked _thread.RLock object owner=0 count=0 at 0x000002A74B314740>\n",
      "_command : None\n",
      "_dict_flag : 0\n",
      "_status : 18\n",
      "_handle : 1\n",
      "_type : 18\n",
      "_name : MEMBERS\n",
      "_is_opened : True\n",
      "isFileVar : 1\n",
      "vocName : MEMBERS\n",
      "pathName : C:\\U2\\ud83\\XDEMO\\MEMBERS\n",
      "type : 2\n",
      "hashAlg : 0\n",
      "modulus : 373\n",
      "minModulus : \n",
      "groupSize : 3\n",
      "largeRecordSize : 4096\n",
      "mergeLoad : \n",
      "splitLoad : \n",
      "currentLoad : \n",
      "nodeName : \n",
      "isAKFile : 1\n",
      "currentLine : \n",
      "partNum : \n",
      "fileStatus : \n",
      "relname : MEMBERS\n",
      "blksize : 4096\n",
      "privilege : 6\n",
      "whichIndex : \n",
      "whatXValue : \n",
      "isRecoverable : 0\n",
      "isNumerical : \n",
      "isReplicated : 0\n",
      "beforeUpdateTrigger : \n",
      "beforeDeleteTrigger : \n",
      "isEncrypted : 0\n",
      "encinfo : \n",
      "afterUpdateTrigger : \n",
      "afterDeleteTrigger : \n",
      "is64bit : 0\n"
     ]
    }
   ],
   "source": [
    "for property, value in vars(f).items():\n",
    "    print(property, \":\", value)\n",
    "\n",
    "\n"
   ]
  }
 ],
 "metadata": {
  "kernelspec": {
   "display_name": "Python 3",
   "language": "python",
   "name": "python3"
  },
  "language_info": {
   "codemirror_mode": {
    "name": "ipython",
    "version": 3
   },
   "file_extension": ".py",
   "mimetype": "text/x-python",
   "name": "python",
   "nbconvert_exporter": "python",
   "pygments_lexer": "ipython3",
   "version": "3.11.1"
  }
 },
 "nbformat": 4,
 "nbformat_minor": 4
}
