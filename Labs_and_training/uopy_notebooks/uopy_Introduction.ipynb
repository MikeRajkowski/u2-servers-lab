{
 "cells": [
  {
   "cell_type": "markdown",
   "metadata": {},
   "source": [
    "<a id='main'></a>\n",
    "![logo](img/logo.png)"
   ]
  },
  {
   "cell_type": "markdown",
   "metadata": {},
   "source": [
    "# Introduction to uopy, and the MultiValue Database"
   ]
  },
  {
   "cell_type": "markdown",
   "metadata": {},
   "source": [
    "The uopy (UniObjects Python) module is a client module for interacting with the Rocket U2 MultiValue Databases.  In this introduction, we will cover the basic use of the uopy module, and provide links to more advanced topics, as well as links to information about the MultiValue Database.\n",
    "\n",
    "Step 1. Load the uopy module, if you have not done so already.\n"
   ]
  },
  {
   "cell_type": "code",
   "execution_count": 3,
   "metadata": {},
   "outputs": [
    {
     "name": "stdout",
     "output_type": "stream",
     "text": [
      "Requirement already satisfied: uopy in c:\\u2\\ud82\\python\\lib\\site-packages\\uopy-1.2.0-py3.9.egg (1.2.0)\n"
     ]
    }
   ],
   "source": [
    "! pip install uopy"
   ]
  },
  {
   "cell_type": "code",
   "execution_count": 1,
   "metadata": {},
   "outputs": [],
   "source": [
    "import uopy\n",
    "import getpass\n",
    "user = input(\"Enter user name? \")\n",
    "passwd = getpass.getpass(\"Enter Password? \")\n"
   ]
  },
  {
   "cell_type": "markdown",
   "metadata": {},
   "source": [
    "# Making the connection"
   ]
  },
  {
   "cell_type": "code",
   "execution_count": 3,
   "metadata": {},
   "outputs": [
    {
     "name": "stdout",
     "output_type": "stream",
     "text": [
      "1.3.0\n",
      "<uopy._session.Session object {'host': 'localhost', 'account': 'C:\\\\u2\\\\ud83\\\\XDEMO', 'port': 31438, 'timeout': 300, 'service': 'udcs', 'encoding': 'GB18030', 'ssl': False, 'user': 'mrajkowski', 'password': ''} at 0x0000020F684A94D0>\n"
     ]
    }
   ],
   "source": [
    "import uopy\n",
    "print(uopy.__version__)\n",
    "\n",
    "\n",
    "def makeconnection(user, password):\n",
    "    config = {\n",
    "             'user': user,\n",
    "             'password': password,\n",
    "             'service': 'udcs',\n",
    "             'account': 'C:\\\\u2\\\\ud83\\\\XDEMO',\n",
    "             'encoding': 'GB18030',\n",
    "         }\n",
    "    thissession = uopy.connect(**config)\n",
    "    return thissession\n",
    "session = makeconnection(user, passwd)\n",
    "print(str(session))"
   ]
  },
  {
   "cell_type": "markdown",
   "metadata": {},
   "source": [
    "# Create method to compile and catalog a program"
   ]
  },
  {
   "cell_type": "code",
   "execution_count": 4,
   "metadata": {},
   "outputs": [
    {
     "name": "stdout",
     "output_type": "stream",
     "text": [
      "c:\\U2\\ud83\\Python\\python.exe\n"
     ]
    }
   ],
   "source": [
    "import sys\n",
    "print(sys.executable)"
   ]
  },
  {
   "cell_type": "code",
   "execution_count": 5,
   "metadata": {},
   "outputs": [
    {
     "name": "stdout",
     "output_type": "stream",
     "text": [
      "\n",
      "Compiling Unibasic: BP\\MTEST_SUB in mode 'u'.\n",
      "compilation finished\n",
      "\n",
      "Executing: CATALOG BP MTEST_SUB FORCE\n",
      "\n",
      "\n",
      "Compiling Unibasic: BP\\MTEST_MAIN in mode 'u'.\n",
      "compilation finished\n",
      "\n",
      "Executing: CATALOG BP MTEST_MAIN FORCE\n",
      "\n",
      "THIS IS THE MAIN PROGRAM\n",
      "THIS IS THE SUB \n",
      "THIS IS THE SUB \n",
      "THIS IS THE SUB \n",
      "THIS IS THE SUB \n",
      "THIS IS THE SUB \n",
      "THIS IS THE SUB \n",
      "THIS IS THE SUB \n",
      "THIS IS THE SUB \n",
      "THIS IS THE SUB \n",
      "THIS IS THE SUB \n",
      "BACK IN MAIN\n",
      "\n"
     ]
    }
   ],
   "source": [
    "\n",
    "def cc(id, thecode, forceflag):\n",
    "    file = uopy.File(\"BP\")\n",
    "    file.write(id, thecode)\n",
    "    compile = uopy.Command(\"BASIC BP \" + id)\n",
    "    compile.run()\n",
    "    print(compile.response)\n",
    "    if forceflag:\n",
    "        catalog_cmd = \"CATALOG BP \" + id + \" FORCE\"\n",
    "    else:\n",
    "        catalog_cmd = \"CATALOG BP \" + id  \n",
    "    print(\"Executing: \" + catalog_cmd)\n",
    "    catalog = uopy.Command(catalog_cmd)\n",
    "    catalog.run()\n",
    "    print(catalog.response)\n",
    "    #runit = uopy.Command(id)\n",
    "    #runit.run()\n",
    "    #print(runit.response)\n",
    "    \n",
    "id = \"MTEST_SUB\"\n",
    "thecode = [ 'SUBROUTINE MTEST_SUB','PRINT \"THIS IS THE SUB \"', 'RETURN']\n",
    "forceflag = True\n",
    "cc(id, thecode, forceflag)\n",
    "\n",
    "id = \"MTEST_MAIN\"\n",
    "thecode = [ 'PRINT \"THIS IS THE MAIN PROGRAM\"', 'FOR A = 1 TO 10', 'CALL MTEST_SUB', 'SLEEP 5', 'NEXT A', 'PRINT \"BACK IN MAIN\"']\n",
    "forceflag = True\n",
    "cc(id, thecode, forceflag)\n",
    "\n",
    "runit = uopy.Command(id)\n",
    "runit.run()\n",
    "print(runit.response)\n"
   ]
  },
  {
   "cell_type": "markdown",
   "metadata": {},
   "source": [
    "Once the connection is open, you can use the properties of the connection object inside your code.\n"
   ]
  },
  {
   "cell_type": "code",
   "execution_count": 6,
   "metadata": {},
   "outputs": [
    {
     "name": "stdout",
     "output_type": "stream",
     "text": [
      "\n",
      "Compiling Unibasic: BP\\MTEST in mode 'u'.\n",
      "compilation finished\n",
      "\n",
      "Executing: CATALOG BP MTEST FORCE\n",
      "\n"
     ]
    }
   ],
   "source": [
    "id = \"MTEST\"\n",
    "thecode = [ 'PRINT \"new\"', 'PRINT \"code\"']\n",
    "forceflag = True\n",
    "cc(id, thecode, forceflag)\n",
    "\n"
   ]
  },
  {
   "cell_type": "markdown",
   "metadata": {},
   "source": [
    "## Try just running and see if it picks up something changed outside of the program"
   ]
  },
  {
   "cell_type": "code",
   "execution_count": null,
   "metadata": {},
   "outputs": [
    {
     "name": "stdout",
     "output_type": "stream",
     "text": [
      "BP:\n",
      "\n",
      "MTEST_MAIN\n",
      "PRINT \"THIS IS THE MAIN PROGRAM\"\n",
      "FOR A = 1 TO 10\n",
      "CALL MTEST_SUB\n",
      "SLEEP 5\n",
      "NEXT A\n",
      "PRINT \"BACK IN MAIN\"\n",
      "\n",
      "BP:\n",
      "\n",
      "MTEST_SUB\n",
      "SUBROUTINE MTEST_SUB\n",
      "PRINT \"THIS IS THE SUB \"\n",
      "RETURN\n",
      "\n",
      "\n",
      "Licensed(UDT+CP)/Effective \tUdt\tSql\tiPhtm\tPooled\t\tTotal\n",
      "\n",
      "    (  32 + 2   ) / 34   \t8\t0\t0\t0\t\t8\n",
      "\n",
      "UDTNO USRNBR  UID USRNAME   USRTYPE  TTY    IP-ADDRESS    TIME     DATE\n",
      "  1  16044 371263 mrajkowsk udt     pts/1   udcs          09:13:29 Jun 06 2025\n",
      "  2  23528 371263 mrajkowsk udt     pts/2   Console       09:15:41 Jun 06 2025\n",
      "  3  23776 371263 mrajkowsk udt     pts/3   Console       09:45:52 Jun 06 2025\n",
      "  4  14096 371263 mrajkowsk udt     pts/4   Console       10:49:57 Jun 06 2025\n",
      "  5  14788 371263 mrajkowsk udt     pts/5   Console       10:10:18 Jun 06 2025\n",
      "  6  25588 371263 mrajkowsk udt     pts/6   Console       10:55:44 Jun 06 2025\n",
      "  7  22272 371263 mrajkowsk udt     pts/7   Console       11:06:08 Jun 06 2025\n",
      "  8  23588 371263 mrajkowsk udt     pts/8   Console       11:16:16 Jun 06 2025\n",
      "  9  25956 371263 mrajkowsk udt     pts/9   udcs          11:31:43 Jun 06 2025\n",
      "\n",
      "\n",
      "\n",
      "Licensed(UDT+CP)/Effective \tUdt\tSql\tiPhtm\tPooled\t\tTotal\n",
      "\n",
      "    (  32 + 2   ) / 34   \t8\t0\t0\t0\t\t8\n",
      "\n",
      "UDTNO USRNBR  UID USRNAME   USRTYPE  TTY    IP-ADDRESS    TIME     DATE\n",
      "  1  16044 371263 mrajkowsk udt     pts/1   udcs          09:13:29 Jun 06 2025\n",
      "  2  23528 371263 mrajkowsk udt     pts/2   Console       09:15:41 Jun 06 2025\n",
      "  3  23776 371263 mrajkowsk udt     pts/3   Console       09:45:52 Jun 06 2025\n",
      "  4  14096 371263 mrajkowsk udt     pts/4   Console       10:49:57 Jun 06 2025\n",
      "  5  14788 371263 mrajkowsk udt     pts/5   Console       10:10:18 Jun 06 2025\n",
      "  6  25588 371263 mrajkowsk udt     pts/6   Console       10:55:44 Jun 06 2025\n",
      "  7  22272 371263 mrajkowsk udt     pts/7   Console       11:06:08 Jun 06 2025\n",
      "  8  23588 371263 mrajkowsk udt     pts/8   Console       11:16:16 Jun 06 2025\n",
      "  9   4728 371263 mrajkowsk udt     pts/9   udcs          11:33:39 Jun 06 2025\n",
      "\n",
      "\n"
     ]
    }
   ],
   "source": [
    "runit = uopy.Command(\"CT BP MTEST_MAIN\")\n",
    "runit.run()\n",
    "print(runit.response)\n",
    "runit = uopy.Command(\"CT BP MTEST_SUB\")\n",
    "runit.run()\n",
    "print(runit.response)\n",
    "runit = uopy.Command(\"LISTUSER\")\n",
    "runit.run()\n",
    "print(runit.response)\n",
    "session.close()\n",
    "session = makeconnection(user, passwd)\n",
    "runit = uopy.Command(\"LISTUSER\")\n",
    "runit.run()\n",
    "print(runit.response)\n",
    "runit = uopy.Command(\"MTEST_MAIN\")\n",
    "runit.run()\n",
    "print(runit.response)"
   ]
  }
 ],
 "metadata": {
  "kernelspec": {
   "display_name": "Python 3",
   "language": "python",
   "name": "python3"
  },
  "language_info": {
   "codemirror_mode": {
    "name": "ipython",
    "version": 3
   },
   "file_extension": ".py",
   "mimetype": "text/x-python",
   "name": "python",
   "nbconvert_exporter": "python",
   "pygments_lexer": "ipython3",
   "version": "3.11.1"
  }
 },
 "nbformat": 4,
 "nbformat_minor": 4
}
