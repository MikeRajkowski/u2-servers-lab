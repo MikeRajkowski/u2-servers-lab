{
 "cells": [
  {
   "cell_type": "markdown",
   "metadata": {},
   "source": [
    "![logo](img/logo.png)\n",
    "\n",
    "# Dealing with Named common\n",
    "\n",
    "The Named common stays active for the life of he U2 process.  \n",
    "\n",
    "There is no direct access to the BASIC Named Common variables, this notebook shows a way to get and set the variables from Python.\n",
    "\n",
    "## Connect to U2 session"
   ]
  },
  {
   "cell_type": "code",
   "execution_count": 2,
   "metadata": {},
   "outputs": [
    {
     "name": "stdout",
     "output_type": "stream",
     "text": [
      "c:\\U2\\ud83\\XDEMO\n"
     ]
    }
   ],
   "source": [
    "import os\n",
    "xdemoPath = \"c:\\\\U2\\\\ud83\\\\XDEMO\"\n",
    "os.chdir(xdemoPath)\n",
    "print(os.getcwd())\n",
    "import u2py\n",
    "import u2support"
   ]
  },
  {
   "cell_type": "markdown",
   "metadata": {},
   "source": [
    "\n",
    "## Running a Program that has a Named common\n",
    "\n",
    "Lets start by looking at he code.\n",
    "\n"
   ]
  },
  {
   "cell_type": "code",
   "execution_count": 6,
   "metadata": {},
   "outputs": [
    {
     "name": "stdout",
     "output_type": "stream",
     "text": [
      "*\n",
      "COMMON /MIKE/ FILEVAR, DATA_ARRAY(10), MY_DYN_ARRAY\n",
      "* NOTE THE NAME COMMON ABOVE DEFINES 12 VARIABLES\n",
      "* If FILEVAR is a file variable, we can not send it to python\n",
      "* the dim array is the same as having 10 variables, and those can not be file variables.\n",
      "**\n",
      "OPEN \"MEMBERS\" TO FILEVAR ELSE STOP \"NG\"\n",
      "*\n",
      "MAT DATA_ARRAY = \"dim data\"\n",
      "DATA_ARRAY(7) = \"MIKE\"\n",
      "DATA_ARRAY(5) = \"1\":@AM:\"2\":@AM:\"3\"\n",
      "*\n",
      "MY_DYN_ARRAY = \"dynamic\":@VM:\"array\"\n"
     ]
    }
   ],
   "source": [
    "rec = u2support.U2READ(\"PBP\", \"SET_BASE\", \"\")\n",
    "for eachline, ref in rec:\n",
    "    print(eachline)\n",
    "\n"
   ]
  },
  {
   "cell_type": "markdown",
   "metadata": {},
   "source": [
    "### Running the program to set the named common"
   ]
  },
  {
   "cell_type": "code",
   "execution_count": 14,
   "metadata": {},
   "outputs": [],
   "source": [
    "cmd = u2py.Command(\"RUN PBP SET_BASE\")\n",
    "cmd.run()"
   ]
  },
  {
   "cell_type": "markdown",
   "metadata": {},
   "source": [
    "### We then will need a subroutine to get the named common\n",
    "\n",
    "For Example:"
   ]
  },
  {
   "cell_type": "code",
   "execution_count": 15,
   "metadata": {},
   "outputs": [
    {
     "name": "stdout",
     "output_type": "stream",
     "text": [
      "SUBROUTINE GET_NC_MIKE(  GET_THIS, THE_ARRAY )\n",
      "COMMON /MIKE/ FILE_VAR, DIMARRAY(10), DYNARRAY\n",
      "BEGIN CASE\n",
      "  CASE GET_THIS = \"DIMARRAY\"\n",
      "    MATBUILD THE_ARRAY FROM DIMARRAY USING \"~\"\n",
      "    THE_ARRAY = LOWER(THE_ARRAY)\n",
      "    CONVERT \"~\" TO @AM IN THE_ARRAY\n",
      "  CASE GET_THIS = \"DYNARRAY\"\n",
      "    THE_ARRAY = DYNARRAY\n",
      "END CASE\n",
      "RETURN\n"
     ]
    }
   ],
   "source": [
    "rec = u2support.U2READ(\"PBP\", \"GET_NC_MIKE\", \"\")\n",
    "for eachline, ref in rec:\n",
    "    print(eachline)"
   ]
  },
  {
   "cell_type": "markdown",
   "metadata": {},
   "source": [
    "## For my example we can call the subroutine and request either:\n",
    "##### \"DIMARRAY\" - Which gets all the elements in the dimentioned array.\n",
    "#### or\n",
    "##### \"DYNARRAY\" - Gets the DYNARRAY dynamic array from the named common."
   ]
  },
  {
   "cell_type": "code",
   "execution_count": 23,
   "metadata": {},
   "outputs": [
    {
     "name": "stdout",
     "output_type": "stream",
     "text": [
      "The DIMARRAY = dim data�dim data�dim data�dim data�1�2�3�dim data�MIKE�dim data�dim data�dim data\n",
      "The DYNARRAY = dynamic�array\n"
     ]
    }
   ],
   "source": [
    "sub = u2py.Subroutine(\"GET_NC_MIKE\",2 )\n",
    "sub.args[0]=\"DIMARRAY\"\n",
    "sub.call()\n",
    "print(\"The \" + str(sub.args[0]) + \" = \" + str(sub.args[1]))\n",
    "\n",
    "sub.args[0]=\"DYNARRAY\"\n",
    "sub.call()\n",
    "print(\"The \" + str(sub.args[0]) + \" = \" + str(sub.args[1]))\n"
   ]
  },
  {
   "cell_type": "markdown",
   "metadata": {},
   "source": [
    "#### Instead of getting the entire Dimentioned array, it is possible to get a specific element.\n",
    "\n",
    "Yet, you need to make sure you are not getting a file pointer, since these can not be used in Python."
   ]
  },
  {
   "cell_type": "code",
   "execution_count": 24,
   "metadata": {},
   "outputs": [
    {
     "name": "stdout",
     "output_type": "stream",
     "text": [
      "$BASICTYPE \"P\"\n",
      "SUBROUTINE GET_ONE_ELEMENT( POS, THE_DATA )\n",
      "COMMON /MIKE/ MY_ARRAY(12)\n",
      "*\n",
      "THE_DATA = MY_ARRAY(POS)\n",
      "IF FILEINFO(THE_DATA, 0) THEN\n",
      "\tTHE_DATA = \"mv_file_pointer\"\n",
      "END\n",
      "RETURN \n"
     ]
    }
   ],
   "source": [
    "rec = u2support.U2READ(\"PBP\", \"GET_ONE_ELEMENT\", \"\")\n",
    "for eachline, ref in rec:\n",
    "    print(eachline)"
   ]
  },
  {
   "cell_type": "markdown",
   "metadata": {},
   "source": [
    "##### Note that for UniData, we need the program to be compiled for BASICTYPE 'P', so we can reference the named common two different ways.\n",
    "\n",
    "i.e.\n",
    "##### COMMON /MIKE/ MY_ARRAY(12)\n",
    "or\n",
    "##### COMMON /MIKE/ FILE_VAR, DIMARRAY(10), DYNARRAY\n",
    "\n",
    "This way we can ask for a specific named COMMON variable based on it position. "
   ]
  },
  {
   "cell_type": "code",
   "execution_count": 30,
   "metadata": {},
   "outputs": [
    {
     "name": "stdout",
     "output_type": "stream",
     "text": [
      "variable 1 = mv_file_pointer\n",
      "variable 2 = dim data\n",
      "variable 3 = dim data\n",
      "variable 4 = dim data\n",
      "variable 5 = dim data\n",
      "variable 6 = 1�2�3\n",
      "variable 7 = dim data\n",
      "variable 8 = MIKE\n",
      "variable 9 = dim data\n",
      "variable 10 = dim data\n",
      "variable 11 = dim data\n",
      "variable 12 = dynamic�array\n"
     ]
    }
   ],
   "source": [
    "sub = u2py.Subroutine(\"GET_ONE_ELEMENT\",2 )\n",
    "for each in range(1, 13):\n",
    "    sub.args[0]=each\n",
    "    sub.call()\n",
    "    print(\"variable \" + str(sub.args[0]) + \" = \" + str(sub.args[1]))\n"
   ]
  },
  {
   "cell_type": "markdown",
   "metadata": {},
   "source": [
    "Final thought, this is just the start of how you can manage the access to the named common.  \n",
    "\n",
    "With similar subroutines, it would be possible to create an Python object that would get the needed common varaibles, and set them, if/when the object changes in python.\n",
    "\n",
    "But that is an example for another time."
   ]
  }
 ],
 "metadata": {
  "kernelspec": {
   "display_name": "Python 3",
   "language": "python",
   "name": "python3"
  },
  "language_info": {
   "codemirror_mode": {
    "name": "ipython",
    "version": 3
   },
   "file_extension": ".py",
   "mimetype": "text/x-python",
   "name": "python",
   "nbconvert_exporter": "python",
   "pygments_lexer": "ipython3",
   "version": "3.11.1"
  }
 },
 "nbformat": 4,
 "nbformat_minor": 4
}
