{
 "cells": [
  {
   "cell_type": "markdown",
   "metadata": {},
   "source": [
    "<div>\n",
    "<img src=\"img/logo.png\" width=\"500\"/>\n",
    "</div>\n",
    "<h1>Introduction to u2py module</h1>\n"
   ]
  },
  {
   "cell_type": "markdown",
   "metadata": {},
   "source": [
    "## Importing and using the u2py module\n",
    "\n",
    "Note that the Python Version of Python shipped with the Rocket U2 Databases has a u2.pth file, which defines where to find the u2py.py module.  If you are not able to import the u2py module, please verify that you are running the version configured for the Rocket MultiValue Database.\n",
    "\n",
    "Note that you can check that the OS Environment PATH variable, has the path to the U2 configured Python Version first, prior to executing python, or you can check from within python. \n"
   ]
  },
  {
   "cell_type": "code",
   "execution_count": 1,
   "metadata": {},
   "outputs": [
    {
     "name": "stdout",
     "output_type": "stream",
     "text": [
      "Checking for c:\\U2\\ud83\\Python\\u2.pth\n",
      "['C:\\\\U2\\\\ud83\\\\bin\\n', 'C:\\\\U2\\\\ud83\\\\XDEMO\\\\PP\\n']\n"
     ]
    }
   ],
   "source": [
    "import sys\n",
    "import os\n",
    "pythonPath = sys.executable\n",
    "pythonDir = os.path.dirname(pythonPath)\n",
    "pthPath = os.path.join(pythonDir, \"u2.pth\")\n",
    "print(\"Checking for \" + str(pthPath))\n",
    "try:\n",
    "    with open(pthPath) as f:\n",
    "        lines = f.readlines()\n",
    "    print(lines)\n",
    "except Exception as e:\n",
    "    print(\"Could not read the u2.pth file.\")\n",
    "    print(\"Check which version of Python you are using.\")\n",
    "    print(\"\")\n",
    "    print(\"The Python you are running is \" + sys.version + \" and is found in \" + pythonDir)\n"
   ]
  },
  {
   "cell_type": "markdown",
   "metadata": {},
   "source": [
    "## Navigating to the XDEMO account \n",
    "\n",
    "After you import the u2py module, you can determin the path of the U2BIN directory, and use that to navigate to the XDEMO account."
   ]
  },
  {
   "cell_type": "code",
   "execution_count": 5,
   "metadata": {},
   "outputs": [
    {
     "name": "stdout",
     "output_type": "stream",
     "text": [
      "The U2HOME PATH is c:\\U2\\ud83\n",
      "c:\\U2\\ud83\\XDEMO\n"
     ]
    }
   ],
   "source": [
    "u2Home = os.path.abspath(os.path.join(pythonDir, os.pardir)) \n",
    "print(\"The U2HOME PATH is \" + u2Home)\n",
    "# Change the path to you local XDEMO account below:\n",
    "xdemoPath = os.path.join(u2Home, \"XDEMO\")\n",
    "os.chdir(xdemoPath)\n",
    "print(os.getcwd())\n",
    "import u2py"
   ]
  },
  {
   "cell_type": "markdown",
   "metadata": {},
   "source": [
    "#### Note if you are having problems with any of these examples, please see the [Troble shooting u2py](Trouble_Shooting_u2py.ipynb#Main)\n",
    "\n",
    "## Working with the u2py module\n",
    "\n",
    "The u2py.py module for Python, allows Python developers to access the Rocket MultiValue Database directly from the server.  \n",
    "\n",
    "u2py allows you to do the following\n",
    "1. [Handle U2 dynamic arrays](#u2py.DynArray)\n",
    "1. [Read/write U2 files](#u2py.File)\n",
    "1. [Run U2 ECL/TCL commands](#u2py.run)\n",
    "1. [Manage U2 SELECT list](#u2py.List)\n",
    "1. [Call U2BASIC catalogued subroutines](#u2py.Subroutine)\n",
    "1. Control U2 transactions\n",
    "\n",
    "Note that the the above order of the topics is different than how they are displayed in the help(u2py), that is because I plan on using somesomthing I show in earler sections in teaching the later sections.  While you are free to jump around, I may not reiterate objects and methods I expect you to know."
   ]
  },
  {
   "cell_type": "markdown",
   "metadata": {},
   "source": [
    "<a id='u2py.DynArray'></a>\n",
    "### Handle U2 dynamic arrays\n",
    "\n",
    "The u2py.DynArray is an object that encapsulates many functions and methods that are familure to the MultiValue Developer, while am no going to review them all in this note book, the following help command displays a complete list."
   ]
  },
  {
   "cell_type": "code",
   "execution_count": 6,
   "metadata": {},
   "outputs": [
    {
     "name": "stdout",
     "output_type": "stream",
     "text": [
      "Help on class DynArray in module u2py:\n",
      "\n",
      "class DynArray(_u2py._DynArray)\n",
      " |  DynArray(*args)\n",
      " |  \n",
      " |  DynArray([arg]) -> new U2PY DynArray object -- to support manipulation of MV delimited data, stores data internally as bytes\n",
      " |  \n",
      " |  DynArray() -- an empty DynArray object\n",
      " |  DynArray(arg) -- an DynArray object with its value set to arg's bytes/string representation\n",
      " |  \n",
      " |  DynArray is iterable. The iterator returns a Python tuple object with two items (v, d) : \n",
      " |     v is the dynamic array element extracted;\n",
      " |     d is the system delimiter found: 0 End of dynamic array, 1 Item mark, 2 Field mark, 3 Value mark, 4 Subvalue mark, 5 Text mark.\n",
      " |  \n",
      " |  Method resolution order:\n",
      " |      DynArray\n",
      " |      _u2py._DynArray\n",
      " |      builtins.object\n",
      " |  \n",
      " |  Methods defined here:\n",
      " |  \n",
      " |  __init__(self, *args)\n",
      " |      Initialize self.  See help(type(self)) for accurate signature.\n",
      " |  \n",
      " |  __repr__(self)\n",
      " |      Return repr(self).\n",
      " |  \n",
      " |  extract(self, *args, **kwargs)\n",
      " |      D.extract(field#, [value#, [subvalue#]]) -> new DynArray object -- extract a field, a value, or a subvalue from the dynamic array\n",
      " |  \n",
      " |  field(self, *args, **kwargs)\n",
      " |      D.field(delimiter, occurrence, [count]]) -> new DynArray object -- return one or more substrings located between specified delimiters in the dynamic array\n",
      " |      \n",
      " |      occurrence -- specifies which occurrence of the delimiter is to be used as a terminator. If occurrence is less than 1, 1 is assumed\n",
      " |      count -- specifies the number of delimited substrings to return\n",
      " |  \n",
      " |  format(self, *args)\n",
      " |      D.format(codes) -> new DynArray object -- format data in the dynamic array with formatting codes.\n",
      " |  \n",
      " |  iconv(self, *args)\n",
      " |      D.iconv(convcode) -> new DynArray object -- convert the dynamic array to a specified internal storage format\n",
      " |  \n",
      " |  oconv(self, *args)\n",
      " |      D.oconv(convcode) -> new DynArray object -- convert the dynamic array to a specified format for output\n",
      " |  \n",
      " |  to_list(self)\n",
      " |      to_list() ->a Python list object -- split the DynArray object into a Python list object using FM/VM/SM as delimiters\n",
      " |  \n",
      " |  ----------------------------------------------------------------------\n",
      " |  Data descriptors defined here:\n",
      " |  \n",
      " |  __dict__\n",
      " |      dictionary for instance variables (if defined)\n",
      " |  \n",
      " |  __weakref__\n",
      " |      list of weak references to the object (if defined)\n",
      " |  \n",
      " |  ----------------------------------------------------------------------\n",
      " |  Methods inherited from _u2py._DynArray:\n",
      " |  \n",
      " |  __eq__(self, value, /)\n",
      " |      Return self==value.\n",
      " |  \n",
      " |  __ge__(self, value, /)\n",
      " |      Return self>=value.\n",
      " |  \n",
      " |  __gt__(self, value, /)\n",
      " |      Return self>value.\n",
      " |  \n",
      " |  __iter__(self, /)\n",
      " |      Implement iter(self).\n",
      " |  \n",
      " |  __le__(self, value, /)\n",
      " |      Return self<=value.\n",
      " |  \n",
      " |  __lt__(self, value, /)\n",
      " |      Return self<value.\n",
      " |  \n",
      " |  __ne__(self, value, /)\n",
      " |      Return self!=value.\n",
      " |  \n",
      " |  __str__(self, /)\n",
      " |      Return str(self).\n",
      " |  \n",
      " |  alpha(...)\n",
      " |      D.alpha() -> True/False -- check if the dynamic array is an alphabetic string\n",
      " |  \n",
      " |  convert(...)\n",
      " |      D.convert(chars, repalce_chars) -> None -- replace every occurrence of specific characters with other characters in the dynamic array\n",
      " |  \n",
      " |  count(...)\n",
      " |      D.count(substring) -> integer -- return the number of times a substring is repeated in the dynamic array\n",
      " |  \n",
      " |  dcount(...)\n",
      " |      D.dcount(delimiter) -> integer -- return the number of delimited fields in the dynamic array\n",
      " |  \n",
      " |  delete(...)\n",
      " |      D.delete(field#, [value#, [subvalue#]]) -> None -- delete a field, value or subvalue from the dynamic array\n",
      " |  \n",
      " |  fieldstore(...)\n",
      " |      D.fieldstore(delimiter, start, n, new.string) -> None -- modify the dynamic array by inserting, deleting, or replacing fields separated by specified delimiters\n",
      " |      \n",
      " |      start -- evaluates to a number specifying the starting field position. Modification begins at the field specified by start.If start is greater than the number of fields in string, the required number of empty fields is inserted first.\n",
      " |      n -- specifies the number of fields of new.string to insert in string. n determines how the operation is executed.If n is positive, n fields in string are replaced with the first n fields of new.string.If n is negative, n fields in string are replaced with all the fields in new.string.If n is 0, all the fields in new.string are inserted in string before the field specified by start.\n",
      " |  \n",
      " |  insert(...)\n",
      " |      D.insert(field#, [value#, [subvalue#]], insert.value) -> None -- insert a new field, value, or subvalue into the dynamic array\n",
      " |  \n",
      " |  locate(...)\n",
      " |      D.locate(field#, [value#, [subvalue#]], search.value, [search.order]. search.value) -> new Python dict object -- search for a field, value, or subvalue in the dynamic array\n",
      " |      \n",
      " |      returns a Python dict object with two keys: 'found' and 'index'. the value of 'found' is either True or False, the value of 'index' indicates where search.value was found in the dynamic array or where search.value should be inserted in the dynamic array if it was not found\n",
      " |  \n",
      " |  lowerdelim(...)\n",
      " |      D.lowerdelim() -> None  -- convert delimiters in the dynamic array to the next lower-level delimiters\n",
      " |  \n",
      " |  next(...)\n",
      " |      D.next() -> new Python dict object  -- successively extract and return dynamic array elements that are separated by system delimiters,and to indicate which system delimiter was found.\n",
      " |      \n",
      " |      returns a Python tuple object with two items (v, d) : \n",
      " |         v is the dynamic array element extracted;\n",
      " |         d is the system delimiter found: 0 End of dynamic array, 1 Item mark, 2 Field mark, 3 Value mark, 4 Subvalue mark, 5 Text mark.\n",
      " |  \n",
      " |  raisedelim(...)\n",
      " |      D.raisedelim() -> None  -- convert delimiters in the dynamic array to the next higher-level delimiters\n",
      " |  \n",
      " |  replace(...)\n",
      " |      D.replace(field#, [value#, [subvalue#]], replace.value) -> None -- replace a specified field, value, or subvalue in the dynamic array with new data\n",
      " |  \n",
      " |  ----------------------------------------------------------------------\n",
      " |  Static methods inherited from _u2py._DynArray:\n",
      " |  \n",
      " |  __new__(*args, **kwargs) from builtins.type\n",
      " |      Create and return a new object.  See help(type) for accurate signature.\n",
      " |  \n",
      " |  ----------------------------------------------------------------------\n",
      " |  Data and other attributes inherited from _u2py._DynArray:\n",
      " |  \n",
      " |  __hash__ = None\n",
      "\n"
     ]
    }
   ],
   "source": [
    "help(u2py.DynArray)"
   ]
  },
  {
   "cell_type": "markdown",
   "metadata": {},
   "source": [
    "#### How to create a u2py Dynamic Array Object\n",
    "\n",
    "For this example, I am going to create Dynamic Array Object with two attributes.  Where Attribute 1 will be equle to \"ONE\" and Attribute 2 will be equle to \"TWO\"\n"
   ]
  },
  {
   "cell_type": "code",
   "execution_count": 7,
   "metadata": {},
   "outputs": [
    {
     "name": "stdout",
     "output_type": "stream",
     "text": [
      "looking at the object we see:\n",
      "<class 'u2py.DynArray'>\n",
      "\n",
      "Converting the Object from example 1 to a string we see\n",
      "One�Two\n",
      "Converting the Object from example 2 to a string we see\n",
      "One�Two\n",
      "Converting the Object from example 3 to a string we see\n",
      "One�Two\n"
     ]
    }
   ],
   "source": [
    "# Example 1 - Starting with an empty array\n",
    "rec1 = u2py.DynArray()\n",
    "rec1.insert(1, \"One\")\n",
    "rec1.insert(2, \"Two\")\n",
    "print(\"looking at the object we see:\")\n",
    "print(type(rec1))\n",
    "print()\n",
    "print(\"Converting the Object from example 1 to a string we see\")\n",
    "rec_str = str(rec1)\n",
    "print(rec_str)\n",
    "\n",
    "# Example 2 - Take a Dynamic Array String and marshel it into an Object.\n",
    "rec2 = u2py.DynArray(rec_str)\n",
    "print(\"Converting the Object from example 2 to a string we see\")\n",
    "rec_str = str(rec2)\n",
    "print(rec_str)\n",
    "# Example 3 - pass in a Python List\n",
    "pyList = [\"One\", \"Two\"]\n",
    "rec3 = u2py.DynArray(pyList)\n",
    "print(\"Converting the Object from example 3 to a string we see\")\n",
    "rec_str = str(rec3)\n",
    "print(rec_str)\n"
   ]
  },
  {
   "cell_type": "markdown",
   "metadata": {},
   "source": [
    "Note that we can also compare the items to make sure they represent the same data."
   ]
  },
  {
   "cell_type": "code",
   "execution_count": 8,
   "metadata": {},
   "outputs": [],
   "source": [
    "if rec1==rec2 and rec2==rec3:\n",
    "    print(\"All three represnet the same data\")"
   ]
  },
  {
   "cell_type": "markdown",
   "metadata": {},
   "source": [
    "#### Returning the Dynamic Array as a Python List\n",
    "\n",
    "In the previous example, one of the methods we used to create the dyanmic array was by passing in a Python List.  in addition to passing a list into the u2py.DynArray Object, you can call a function to return the data as a nested Python List.\n",
    "\n"
   ]
  },
  {
   "cell_type": "code",
   "execution_count": 9,
   "metadata": {},
   "outputs": [
    {
     "name": "stdout",
     "output_type": "stream",
     "text": [
      "The String representation look like:\n",
      "att-1�att-2, Value-1�att-2, Value-2�att-3, Value-1, SubValue-1�att-3, Value-1, SubValue-2�att-3, Value-1, SubValue-2�att-3, Value-2, SubValue-2\n",
      "['att-1',\n",
      " ['att-2, Value-1', 'att-2, Value-2'],\n",
      " [['att-3, Value-1, SubValue-1', 'att-3, Value-1, SubValue-2'],\n",
      "  ['att-3, Value-1, SubValue-2', 'att-3, Value-2, SubValue-2']]]\n"
     ]
    }
   ],
   "source": [
    "the_list = [ \"att-1\", [\"att-2, Value-1\", \"att-2, Value-2\"], [[\"att-3, Value-1, SubValue-1\", \"att-3, Value-1, SubValue-2\" ],[\"att-3, Value-1, SubValue-2\", \"att-3, Value-2, SubValue-2\" ]]]\n",
    "dynArrayObj = u2py.DynArray(the_list)\n",
    "print(\"The String representation look like:\")\n",
    "print(str(dynArrayObj))\n",
    "as_list = dynArrayObj.to_list()\n",
    "from pprint import pprint\n",
    "pprint(as_list)"
   ]
  },
  {
   "cell_type": "markdown",
   "metadata": {},
   "source": [
    "In the previous example we displayed the data as both a string, with delimeters, and a Python list.  Note that in the string representations of the\n",
    "dynamic array object, the data is seperated by delimeters."
   ]
  },
  {
   "cell_type": "code",
   "execution_count": 10,
   "metadata": {},
   "outputs": [
    {
     "name": "stdout",
     "output_type": "stream",
     "text": [
      "att-1�att-2, Value-1�att-2, Value-2�att-3, Value-1, SubValue-1�att-3, Value-1, SubValue-2�att-3, Value-1, SubValue-2�att-3, Value-2, SubValue-2\n",
      "\n",
      "Note that the delimites are displayed as:\n",
      "u2py.IM - �\n",
      "u2py.FM - �\n",
      "u2py.VM - �\n",
      "u2py.SM - �\n",
      "u2py.TM - �\n"
     ]
    }
   ],
   "source": [
    "print(str(dynArrayObj))\n",
    "print()\n",
    "print(\"Note that the delimites are displayed as:\")\n",
    "print(\"u2py.IM\" +  \" - \" + str(u2py.DynArray(u2py.IM)))\n",
    "print(\"u2py.FM\" +  \" - \" + str(u2py.DynArray(u2py.FM)))\n",
    "print(\"u2py.VM\" +  \" - \" + str(u2py.DynArray(u2py.VM)))\n",
    "print(\"u2py.SM\" +  \" - \" + str(u2py.DynArray(u2py.SM)))\n",
    "print(\"u2py.TM\" +  \" - \" + str(u2py.DynArray(u2py.TM)))"
   ]
  },
  {
   "cell_type": "markdown",
   "metadata": {},
   "source": [
    "##### By default the delimeters are set as follows:\n",
    "\n",
    "uopy property             | Description.............. |                    Character\n",
    ":-----------------------|:--------------------------:|--------------------------:\n",
    "IM | Item Mark | b'\\xff'\n",
    "FM | Field/Attribute Mark|b'\\xfe'\n",
    "VM | Value Mark|b'\\xfd'\n",
    "SM | SubValue Mark|b'\\xfc'\n",
    "TM | Text Mark|b'\\xfb'\n",
    "\n",
    "<b>Rocket Software Support strongly recommends that the Python developer use the u2py properties rather than default binary character delimeters.</b>\n",
    "\n",
    "Note that this is due to the fact that changes of codepages and languages used can change the values of the delimetors.\n"
   ]
  },
  {
   "cell_type": "markdown",
   "metadata": {},
   "source": [
    "#### Accessing the same sub-value from the dynamic array object or the list\n",
    "\n",
    "To retrieve a specific Attribute, Value or SubValue from a dynamic array object use the u2py.DynArray.extract method."
   ]
  },
  {
   "cell_type": "code",
   "execution_count": 12,
   "metadata": {},
   "outputs": [
    {
     "name": "stdout",
     "output_type": "stream",
     "text": [
      "Help on function extract in module u2py:\n",
      "\n",
      "extract(self, *args, **kwargs)\n",
      "    D.extract(field#, [value#, [subvalue#]]) -> new DynArray object -- extract a field, a value, or a subvalue from the dynamic array\n",
      "\n"
     ]
    }
   ],
   "source": [
    "help(u2py.DynArray.extract)"
   ]
  },
  {
   "cell_type": "markdown",
   "metadata": {},
   "source": [
    "Example:  Getting the 2nd value of the 2nd attribute\n"
   ]
  },
  {
   "cell_type": "code",
   "execution_count": 13,
   "metadata": {},
   "outputs": [
    {
     "name": "stdout",
     "output_type": "stream",
     "text": [
      "att-2, Value-2\n"
     ]
    }
   ],
   "source": [
    "results = dynArrayObj.extract(2,2)\n",
    "print(results)"
   ]
  },
  {
   "cell_type": "markdown",
   "metadata": {},
   "source": [
    "This is different than how a Python list works.  The first element of a python list is 0, and dynamic arrays with values and sub-values is\n",
    "marshedled into a nested list. \n",
    "\n",
    "So, we can use the following to extract the same data."
   ]
  },
  {
   "cell_type": "code",
   "execution_count": 14,
   "metadata": {},
   "outputs": [
    {
     "name": "stdout",
     "output_type": "stream",
     "text": [
      "att-2, Value-2\n"
     ]
    }
   ],
   "source": [
    "result2 = dynArrayObj.to_list()[1][1]\n",
    "print(result2)"
   ]
  },
  {
   "cell_type": "markdown",
   "metadata": {},
   "source": [
    "### Iterating over the u2py.DynArray Object\n",
    "\n",
    "DynArray is iterable. The iterator returns a Python tuple object with two items (v, d) :\n",
    "     v is the dynamic array element extracted;\n",
    "     d is the system delimiter found: 0 End of dynamic array, \n",
    "                                      1 Item mark, \n",
    "                                      2 Field mark, \n",
    "                                      3 Value mark, \n",
    "                                      4 Subvalue mark, \n",
    "                                      5 Text mark.\n",
    "     \n",
    "So, it is possible to loop through the object and extract the data.\n"
   ]
  },
  {
   "cell_type": "code",
   "execution_count": 15,
   "metadata": {},
   "outputs": [
    {
     "name": "stdout",
     "output_type": "stream",
     "text": [
      "att-1 2\n",
      "att-2, Value-1 3\n",
      "att-2, Value-2 2\n",
      "att-3, Value-1, SubValue-1 4\n",
      "att-3, Value-1, SubValue-2 3\n",
      "att-3, Value-1, SubValue-2 4\n",
      "att-3, Value-2, SubValue-2 0\n"
     ]
    }
   ],
   "source": [
    "for data, delim in dynArrayObj:\n",
    "    print(data, delim)"
   ]
  },
  {
   "cell_type": "markdown",
   "metadata": {},
   "source": [
    "<a id='u2py.File'></a>\n",
    "## Read/write U2 files\n",
    "\n",
    "#### Prior to reading and/or writing to a Rocket MultiValue file, you first have to instantiate a u2py.File Object.\n"
   ]
  },
  {
   "cell_type": "code",
   "execution_count": 16,
   "metadata": {},
   "outputs": [
    {
     "data": {
      "text/plain": [
       "<u2py.File name='MEMBERS' status='opened'>"
      ]
     },
     "execution_count": 16,
     "metadata": {},
     "output_type": "execute_result"
    }
   ],
   "source": [
    "try:\n",
    "    membersFile = u2py.File(\"MEMBERS\")\n",
    "except u2py.U2Error as e:\n",
    "    print(\"Something major went wrong with the Jupyter notebook or the XDEMO account.\")\n",
    "membersFile"
   ]
  },
  {
   "cell_type": "markdown",
   "metadata": {},
   "source": [
    "Note that since this notebook is expected to run from the XDMEO account, the MEMBERS file is expected to exist.  We put the u2py.File command in try-except,\n",
    "because it is a good programing practice.  Please see the [u2py File_Best Practices](u2py_File_Best_Practices.ipynb#bp_u2py_File) for mor information.\n"
   ]
  },
  {
   "cell_type": "markdown",
   "metadata": {},
   "source": [
    "### Reading from the u2py.file Object\n",
    "\n",
    "You can get help on the u2py.File.read method by calling help on the method."
   ]
  },
  {
   "cell_type": "code",
   "execution_count": 17,
   "metadata": {},
   "outputs": [
    {
     "name": "stdout",
     "output_type": "stream",
     "text": [
      "Help on method read in module u2py:\n",
      "\n",
      "read(*args) method of u2py.File instance\n",
      "    F.read(recordid, [lockflag]) -> new DynArray object -- read a record in the file\n",
      "    \n",
      "    lockflag is either 0 (default), or [LOCK_EXCLUSIVE or LOCK_SHARED] [ + LOCK_WAIT].\n",
      "\n"
     ]
    }
   ],
   "source": [
    "help(membersFile.read)"
   ]
  },
  {
   "cell_type": "markdown",
   "metadata": {},
   "source": [
    "#### For a codding example, I am going to read an Item that should exist in the MEMBERS file of the XDEMO database."
   ]
  },
  {
   "cell_type": "code",
   "execution_count": 18,
   "metadata": {},
   "outputs": [
    {
     "name": "stdout",
     "output_type": "stream",
     "text": [
      "Johnson�Anita�Y�Mrs�50 Portobello Road�New Glasgow�NE�01870�F�5139��9795570025�ajohnson@mv.rs.com�monkey�U2FsdGVkX18UefufEjOFs2GUdzdF3Y89ZYiosyRzt+8=\n",
      "�ajohnson.jpg�A�9723122312945378�5700222144699144�9254766688143698�4699144669214769�U2FsdGVkX1/Hy9eK3j1yUEM5MtJ+XOsPGnGl95FzkitbBbE6eY4tX5ENetHMxlwj\n",
      "�U2FsdGVkX1+TB/WIrJXzzZUnAojZoAcqvyumYKmQ4VDs70xVrnC59fsa+a/K9Q1Y\n",
      "�U2FsdGVkX1+XOujSPxfiuQTW/QNsfgX7R7Rp7Z1e6n2mi0ebK2DYS5r4M3oG+MRF\n",
      "�U2FsdGVkX1/bVAxPZZ1StQUcib8ZLI1SarQXAUImDYUuQz4qe4LGRVhwJPRgskvx\n",
      "�AMEX�V�MC�MC�18019�17989�16834�17930�025�570�925�032\n"
     ]
    }
   ],
   "source": [
    "rec = membersFile.read(\"0110\")\n",
    "# note that if successful the read will return a u2py.DynArray object\n",
    "rec\n",
    "print(str(rec))"
   ]
  },
  {
   "cell_type": "markdown",
   "metadata": {},
   "source": [
    "#### Next example shows what happens if the item does not exist."
   ]
  },
  {
   "cell_type": "code",
   "execution_count": 19,
   "metadata": {},
   "outputs": [
    {
     "ename": "U2Error",
     "evalue": "(30001) Record not found",
     "output_type": "error",
     "traceback": [
      "\u001b[1;31m---------------------------------------------------------------------------\u001b[0m",
      "\u001b[1;31mU2Error\u001b[0m                                   Traceback (most recent call last)",
      "Cell \u001b[1;32mIn[19], line 1\u001b[0m\n\u001b[1;32m----> 1\u001b[0m badrec \u001b[38;5;241m=\u001b[39m \u001b[43mmembersFile\u001b[49m\u001b[38;5;241;43m.\u001b[39;49m\u001b[43mread\u001b[49m\u001b[43m(\u001b[49m\u001b[38;5;124;43m\"\u001b[39;49m\u001b[38;5;124;43mnotavalidid\u001b[39;49m\u001b[38;5;124;43m\"\u001b[39;49m\u001b[43m)\u001b[49m\n",
      "File \u001b[1;32mC:\\U2\\ud83\\bin\\u2py.py:161\u001b[0m, in \u001b[0;36mFile.read\u001b[1;34m(self, *args)\u001b[0m\n\u001b[0;32m    160\u001b[0m \u001b[38;5;28;01mdef\u001b[39;00m \u001b[38;5;21mread\u001b[39m(\u001b[38;5;28mself\u001b[39m, \u001b[38;5;241m*\u001b[39margs):\n\u001b[1;32m--> 161\u001b[0m     \u001b[38;5;28;01mreturn\u001b[39;00m DynArray(\u001b[38;5;28;43msuper\u001b[39;49m\u001b[43m(\u001b[49m\u001b[43m)\u001b[49m\u001b[38;5;241;43m.\u001b[39;49m\u001b[43mread\u001b[49m\u001b[43m(\u001b[49m\u001b[38;5;241;43m*\u001b[39;49m\u001b[43margs\u001b[49m\u001b[43m)\u001b[49m)\n",
      "\u001b[1;31mU2Error\u001b[0m: (30001) Record not found"
     ]
    }
   ],
   "source": [
    "badrec = membersFile.read(\"notavalidid\")"
   ]
  },
  {
   "cell_type": "markdown",
   "metadata": {},
   "source": [
    "As you see, when the item is not found, an exception is raised.  We can handle this in python with a try/except block"
   ]
  },
  {
   "cell_type": "code",
   "execution_count": 20,
   "metadata": {},
   "outputs": [
    {
     "name": "stdout",
     "output_type": "stream",
     "text": [
      "caught an execptiom, badrec set to an empty dynamic array\n"
     ]
    }
   ],
   "source": [
    "try:\n",
    "    badrec = membersFile.read(\"notavalidid\")\n",
    "except u2py.U2Error as e:\n",
    "    badrec = u2py.DynArray()\n",
    "    print(\"caught an execptiom, badrec set to an empty dynamic array\")"
   ]
  },
  {
   "cell_type": "markdown",
   "metadata": {},
   "source": [
    "### Writing an item with the u2py.File.write method\n",
    "\n",
    "You can see that the method is similar to the read, with the exception of the need to pass the u2py.DynArray to write to the method."
   ]
  },
  {
   "cell_type": "code",
   "execution_count": 21,
   "metadata": {},
   "outputs": [
    {
     "name": "stdout",
     "output_type": "stream",
     "text": [
      "Help on built-in function write:\n",
      "\n",
      "write(...) method of u2py.File instance\n",
      "    F.write(recordid, record, [lockflag]) -> None -- write a record to the file\n",
      "    \n",
      "    lockflag is either 0, LOCK_RETAIN, LOCK_WAIT, LOCK_RETAIN + LOCK_WAIT.\n",
      "\n"
     ]
    }
   ],
   "source": [
    "help(membersFile.write)\n"
   ]
  },
  {
   "cell_type": "markdown",
   "metadata": {},
   "source": [
    "For our example we will be creating a new item with an ID of \"NEW\", note that we will be deleting this item later in this notebook"
   ]
  },
  {
   "cell_type": "code",
   "execution_count": 22,
   "metadata": {},
   "outputs": [
    {
     "name": "stdout",
     "output_type": "stream",
     "text": [
      "They match\n",
      "Johnson�Anita�Y�Mrs�50 Portobello Road�New Glasgow�NE�01870�F�5139��9795570025�ajohnson@mv.rs.com�monkey�U2FsdGVkX18UefufEjOFs2GUdzdF3Y89ZYiosyRzt+8=\n",
      "�ajohnson.jpg�A�9723122312945378�5700222144699144�9254766688143698�4699144669214769�U2FsdGVkX1/Hy9eK3j1yUEM5MtJ+XOsPGnGl95FzkitbBbE6eY4tX5ENetHMxlwj\n",
      "�U2FsdGVkX1+TB/WIrJXzzZUnAojZoAcqvyumYKmQ4VDs70xVrnC59fsa+a/K9Q1Y\n",
      "�U2FsdGVkX1+XOujSPxfiuQTW/QNsfgX7R7Rp7Z1e6n2mi0ebK2DYS5r4M3oG+MRF\n",
      "�U2FsdGVkX1/bVAxPZZ1StQUcib8ZLI1SarQXAUImDYUuQz4qe4LGRVhwJPRgskvx\n",
      "�AMEX�V�MC�MC�18019�17989�16834�17930�025�570�925�032\n"
     ]
    }
   ],
   "source": [
    "membersFile.write(\"NEW\", rec)\n",
    "# Lets read it back in and see that it worked.\n",
    "newrec = membersFile.read(\"NEW\")\n",
    "if newrec == rec:\n",
    "    print(\"They match\")\n",
    "    print(str(newrec))\n",
    "else:\n",
    "    print(\"something went wrong with the write or read\")"
   ]
  },
  {
   "cell_type": "markdown",
   "metadata": {},
   "source": [
    "This simmple example wrote the dynamic arry to the file, read it back in and then compared what was weitten to what was read.  The last line prints\n",
    "the string representation of the u2py.DynArray object. \n"
   ]
  },
  {
   "cell_type": "markdown",
   "metadata": {},
   "source": [
    "<a id='u2py.run'></a>\n",
    "## Run U2 ECL/TCL commands"
   ]
  },
  {
   "cell_type": "markdown",
   "metadata": {},
   "source": [
    "The u2py.Command object is used to execute a command as you would if you were at the ECL/TCL Prompt.  "
   ]
  },
  {
   "cell_type": "code",
   "execution_count": 23,
   "metadata": {
    "scrolled": true
   },
   "outputs": [
    {
     "name": "stdout",
     "output_type": "stream",
     "text": [
      "Help on class Command in module u2py:\n",
      "\n",
      "class Command(_u2py._Command)\n",
      " |  Command(cmdtext) -> new Command object -- to support the execution of U2 commands\n",
      " |  \n",
      " |  cmdtext -- ECL/TCL command text.\n",
      " |  \n",
      " |  Method resolution order:\n",
      " |      Command\n",
      " |      _u2py._Command\n",
      " |      builtins.object\n",
      " |  \n",
      " |  Methods defined here:\n",
      " |  \n",
      " |  __repr__(self)\n",
      " |      Return repr(self).\n",
      " |  \n",
      " |  run(self, capture=False)\n",
      " |      run([capture=False]) -> None -- run the TCL/ECL command, similar to running a command from U2 prompt\n",
      " |      if capture is True, return the output of the command as a string\n",
      " |  \n",
      " |  ----------------------------------------------------------------------\n",
      " |  Data descriptors defined here:\n",
      " |  \n",
      " |  __dict__\n",
      " |      dictionary for instance variables (if defined)\n",
      " |  \n",
      " |  __weakref__\n",
      " |      list of weak references to the object (if defined)\n",
      " |  \n",
      " |  ----------------------------------------------------------------------\n",
      " |  Methods inherited from _u2py._Command:\n",
      " |  \n",
      " |  __init__(self, /, *args, **kwargs)\n",
      " |      Initialize self.  See help(type(self)) for accurate signature.\n",
      " |  \n",
      " |  ----------------------------------------------------------------------\n",
      " |  Static methods inherited from _u2py._Command:\n",
      " |  \n",
      " |  __new__(*args, **kwargs) from builtins.type\n",
      " |      Create and return a new object.  See help(type) for accurate signature.\n",
      " |  \n",
      " |  ----------------------------------------------------------------------\n",
      " |  Data descriptors inherited from _u2py._Command:\n",
      " |  \n",
      " |  cmdtext\n",
      " |      ECL/TCL command\n",
      "\n"
     ]
    }
   ],
   "source": [
    "help(u2py.Command)"
   ]
  },
  {
   "cell_type": "markdown",
   "metadata": {},
   "source": [
    "## There are a few options on how to instantiate the object and run the command.\n",
    "\n",
    "#### Note that due to the nature of Jupyter-Notebooks, and u2py, the run code can not be interactive for these examples\n",
    "\n",
    "### Option 1: Instantiate the object and execute the command by calling the run method:\n",
    "    a = u2py.run(\"WHO\", capture=True)\n",
    "    a\n",
    "    '5 XDEMO From ROCKET1\\\\mrajkowski\\n'"
   ]
  },
  {
   "cell_type": "markdown",
   "metadata": {},
   "source": [
    "### Option 2: Instantiate the object and execute the command by calling the run method without capturing the output:\n",
    "    u2py.run(\"WHO\")\n",
    "    5 XDEMO From ROCKET1\\mrajkowski"
   ]
  },
  {
   "cell_type": "markdown",
   "metadata": {},
   "source": [
    "### Option 3: Option 2: Instantiate the object then call the run method:\n",
    "    cmd = u2py.Command(\"WHO\")\n",
    "    a = cmd.run(capture=True)\n",
    "    a\n",
    "    '5 XDEMO From ROCKET1\\\\mrajkowski\\n'            "
   ]
  },
  {
   "cell_type": "markdown",
   "metadata": {},
   "source": [
    "### Option 4: Option 2: Instantiate the object then call the run method without capturing the output:\n",
    "    cmd = u2py.Command(\"WHO\")\n",
    "    cmd.run()\n",
    "    5 XDEMO From ROCKET1\\mrajkowski"
   ]
  },
  {
   "cell_type": "markdown",
   "metadata": {},
   "source": [
    "<a id='u2py.run'></a>Note that if you assign the output of the run method to a variable, and you do not have capture set to True,\n",
    "the variable will be set to the NoneType.\n",
    "\n",
    "    a = cmd.run()\n",
    "    5 XDEMO From ROCKET1\\mrajkowski\n",
    "    type(a)\n",
    "    <class 'NoneType'>"
   ]
  },
  {
   "cell_type": "markdown",
   "metadata": {},
   "source": [
    "<a id='u2py.List'></a>\n",
    "## Manage U2 SELECT list\n",
    "\n",
    "This object allows the developer to access the active select lists from the Rocket U2 Database, or build an active select list from the file object, the file index, or by retrieving a select list from a previously saved list."
   ]
  },
  {
   "cell_type": "code",
   "execution_count": 24,
   "metadata": {},
   "outputs": [
    {
     "name": "stdout",
     "output_type": "stream",
     "text": [
      "['AL', 'AR', 'CA', 'DC', 'IA', 'ID', 'LA', 'MI', 'MO', 'NE', 'NH', 'SC', 'TN', 'CT', 'GA', 'HI', 'IN', 'MA', 'MD', 'MS', 'NC', 'OH', 'OK', 'PA', 'SD', 'TX', 'UT', 'VA', 'WI', 'AK', 'AZ', 'CO', 'DE', 'FL', 'IL', 'KS', 'KY', 'ME', 'MN', 'MT', 'ND', 'NJ', 'NM', 'NV', 'NY', 'OR', 'RI', 'VT', 'WA', 'WV', 'WY']\n"
     ]
    }
   ],
   "source": [
    "import u2py\n",
    "file = u2py.File(\"STATES\")\n",
    "ids  = u2py.List(9, file)\n",
    "as_python_list = ids.readlist().to_list()\n",
    "print(str(as_python_list))"
   ]
  },
  {
   "cell_type": "markdown",
   "metadata": {},
   "source": [
    "Note that we needed to provide a active list number, in this case I used 9, to provide a place for the \n",
    "Rocket MultiValue database to store the select list.\n",
    "\n",
    "I then used the readlist method from the u2py.List Object to read in all of the items at once.  While it is \n",
    "possible to iterate over the entire contents of the object, each iteration will need to interact with MultiValue.  It is quicker to read in all the item ids at once.  ( That is if you do not expect a Rocket MultiValue command or BASIC program to access the same list."
   ]
  },
  {
   "cell_type": "markdown",
   "metadata": {},
   "source": [
    "<a id='u2py.Subroutine'></a>\n",
    "## Call U2BASIC catalogued subroutines\n",
    "\n",
    "In the Rocket MultiValue DataBases, a subroutine is a BASIC program that has as a SUBROUTINE statement as its first noncommented line of code.\n",
    "\n",
    "Note that all subroutines must be cataloged using the ECL/TCL CATALOG command before \n",
    "being called. For more information about the CATALOG command, see the Rocket U2 Documentation for the database you are using.\n",
    "\n",
    "To instantiate a u2py.Subroutine object, you must provide the name of the subroutine, as cataloged, and the number are parameters the subroutine requires.\n",
    "\n",
    "sub = Subroutine(name, pnum)\n",
    "\n",
    "Consider the following subroutine:\n",
    ": CT JBP SIMPLE_SUBROUTINE\n",
    "\n",
    "#####     SIMPLE_SUBROUTINE\n",
    "SUBROUTINE SIMPLE_SUBROUTINE( OUTVAL, INVAL )</P>\n",
    "OUTVAL = \"Hello \":INVAL</P>\n",
    "RETURN</P>\n",
    "\n",
    "The following is how we would call the subroutine:\n"
   ]
  },
  {
   "cell_type": "code",
   "execution_count": 26,
   "metadata": {},
   "outputs": [
    {
     "name": "stdout",
     "output_type": "stream",
     "text": [
      "Hello Mike\n"
     ]
    }
   ],
   "source": [
    "sub = u2py.Subroutine(\"SIMPLE_SUBROUTINE\", 2)\n",
    "sub.args[0] = \"\"\n",
    "sub.args[1] = \"Mike\"\n",
    "sub.call()\n",
    "print(sub.args[0])"
   ]
  }
 ],
 "metadata": {
  "kernelspec": {
   "display_name": "Python 3",
   "language": "python",
   "name": "python3"
  },
  "language_info": {
   "codemirror_mode": {
    "name": "ipython",
    "version": 3
   },
   "file_extension": ".py",
   "mimetype": "text/x-python",
   "name": "python",
   "nbconvert_exporter": "python",
   "pygments_lexer": "ipython3",
   "version": "3.11.1"
  }
 },
 "nbformat": 4,
 "nbformat_minor": 4
}
