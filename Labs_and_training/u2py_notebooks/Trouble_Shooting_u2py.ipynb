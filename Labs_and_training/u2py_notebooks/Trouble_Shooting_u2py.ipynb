{
 "cells": [
  {
   "cell_type": "markdown",
   "metadata": {},
   "source": [
    "![logo](img/logo.png)\n",
    "<a id='Main'></a>\n",
    "# Notebook for trouble shooting the u2py Module"
   ]
  },
  {
   "cell_type": "markdown",
   "metadata": {},
   "source": [
    "## Getting started with u2py"
   ]
  },
  {
   "cell_type": "markdown",
   "metadata": {},
   "source": [
    "From the command prompt, you can start Python by just entering the word python."
   ]
  },
  {
   "cell_type": "raw",
   "metadata": {},
   "source": [
    "i.e.\n",
    "C:\\U2\\UV>python\n",
    "Python 3.7.3 (v3.7.3:ef4ec6ed12, Mar 25 2019, 22:22:05) [MSC v.1916 64 bit (AMD64)] on win32\n",
    "Type \"help\", \"copyright\", \"credits\" or \"license\" for more information.\n",
    ">>>"
   ]
  },
  {
   "cell_type": "markdown",
   "metadata": {},
   "source": [
    "#### Note that for this notebook, it starts Python for you, so it is not needed.\n",
    "\n",
    "We can check the version with python commands"
   ]
  },
  {
   "cell_type": "code",
   "execution_count": 2,
   "metadata": {},
   "outputs": [
    {
     "name": "stdout",
     "output_type": "stream",
     "text": [
      "3.11.1 (tags/v3.11.1:a7a450f, Dec  6 2022, 19:58:39) [MSC v.1934 64 bit (AMD64)]\n",
      "c:\\U2\\ud83\\Python\\python.exe\n"
     ]
    }
   ],
   "source": [
    "import sys\n",
    "print(sys.version)\n",
    "print(sys.executable)\n",
    "import os"
   ]
  },
  {
   "cell_type": "markdown",
   "metadata": {},
   "source": [
    "Based on the path of the python executable, you may be able to tell if it was the one Provided by U2.  Yet, it is a good idea to make sure you have access to the u2py module.\n",
    "\n",
    "### First make sure you are in a U2 account\n"
   ]
  },
  {
   "cell_type": "code",
   "execution_count": 3,
   "metadata": {},
   "outputs": [
    {
     "name": "stdout",
     "output_type": "stream",
     "text": [
      "c:\\U2\\ud83\\XDEMO\n"
     ]
    }
   ],
   "source": [
    "import os\n",
    "xdemoPath = \"c:\\\\U2\\\\ud83\\\\XDEMO\"\n",
    "os.chdir(xdemoPath)\n",
    "print(os.getcwd())"
   ]
  },
  {
   "cell_type": "markdown",
   "metadata": {},
   "source": [
    "### Verifying that the version of Python is the one set up for Rocket MultiValue Python\n",
    "\n",
    "We do this by checking that we can import the u2py module.  We can also determine the location of the UVBIN/UDTBIN by displaying the path of the u2py file.\n",
    "\n",
    "( If this fails please exit, and set the OS PATH to find the U2 supplied Python path first.)"
   ]
  },
  {
   "cell_type": "code",
   "execution_count": 5,
   "metadata": {},
   "outputs": [
    {
     "name": "stdout",
     "output_type": "stream",
     "text": [
      "C:\\U2\\ud83\\bin\\u2py.py- imported\n"
     ]
    }
   ],
   "source": [
    "import u2py\n",
    "print(u2py.__file__ + \"- imported\")\n",
    "# Note that for this demo, we need to cd to the parent directory, and insure it is a Rocket U2 account."
   ]
  },
  {
   "cell_type": "markdown",
   "metadata": {},
   "source": [
    "### Note that if the u2py module fails to import, you are mostlikley not using the version of Python that was set up to use the Rocket MultiValue database.\n",
    "\n",
    "#### Steps for resolving this issue\n",
    "1. Check you .pyconfig file in UDTHOME/UVHOME, this contains the PYHOME and PYLIB paths used by u2py<br>\n",
    "   i.e<br>\n",
    "    PYHOME=C:\\U2\\UV\\python <br>\n",
    "    PYLIB=C:\\U2\\UV\\python\\python37.dll <br>\n",
    "1. Modify the os PATH environment variable to point to the python version identifid in step 1\n",
    "\n",
    "On Unix/Linux you can use the 'which python' command to show what version of python is running."
   ]
  },
  {
   "cell_type": "code",
   "execution_count": 6,
   "metadata": {},
   "outputs": [
    {
     "name": "stdout",
     "output_type": "stream",
     "text": [
      "C:\\\\U2\\\\ud83\n",
      "PYHOME=C:\\U2\\ud83\\Python\n",
      "PYLIB=C:\\U2\\ud83\\Python\\python311.dll\n",
      "\n"
     ]
    }
   ],
   "source": [
    "# You can do this from python with the following commands:\n",
    "U2HOME = input(\"Enter the path to you UDTHOME/UVHOME, note you will need to escape the \\\\ by having 2 \\\\\\\\\")\n",
    "print(U2HOME)\n",
    "fileName = str(U2HOME) + \"\\\\.pyconfig\"\n",
    "file = open(fileName)\n",
    "info = file.read()\n",
    "print(info)\n"
   ]
  },
  {
   "cell_type": "markdown",
   "metadata": {},
   "source": [
    "#### Testing the u2py module\n",
    "Just because you import u2py, does not mean you can use it.  You must be in a U2 account"
   ]
  },
  {
   "cell_type": "code",
   "execution_count": 7,
   "metadata": {},
   "outputs": [
    {
     "name": "stdout",
     "output_type": "stream",
     "text": [
      "The U2HOME PATH is C:\\U2\\ud83\n",
      "c:\\U2\\ud83\\XDEMO\n"
     ]
    }
   ],
   "source": [
    "import u2py\n",
    "import os\n",
    "u2pyPath = u2py.__file__\n",
    "u2Home = os.path.dirname(os.path.dirname(u2pyPath))\n",
    "print(\"The U2HOME PATH is \" + u2Home)\n",
    "# Change the path to you local XDEMO account below:\n",
    "xdemoPath = os.path.join(u2Home, \"XDEMO\")\n",
    "os.chdir(xdemoPath)\n",
    "print(os.getcwd())"
   ]
  },
  {
   "cell_type": "markdown",
   "metadata": {},
   "source": [
    "### Finding the Partner's/Customer's code\n",
    "\n",
    "A common problem customers call in about is getting access to their homegrown Python code.  The customer must make\n",
    "sure they add the path to the directory that contains their code in a .pth file for Python to find it.\n",
    "\n",
    "When installed, the Python Version shipped with Rocket U2 contains a u2.pth file\n",
    "\n",
    "It contains two lines, one to the UDTBIN/UVBIN directory ( the location of u2py ), and he path the the PP directory of the XDEMO account.\n",
    "\n",
    "Use the following commands view where Python will check for modules "
   ]
  },
  {
   "cell_type": "code",
   "execution_count": 8,
   "metadata": {},
   "outputs": [
    {
     "data": {
      "text/plain": [
       "['c:\\\\U2\\\\ud83\\\\Python\\\\python311.zip',\n",
       " 'c:\\\\U2\\\\ud83\\\\Python\\\\Lib',\n",
       " 'c:\\\\U2\\\\ud83\\\\Python\\\\DLLs',\n",
       " 'c:\\\\U2\\\\ud83\\\\Python',\n",
       " 'C:\\\\U2\\\\ud83\\\\bin',\n",
       " 'C:\\\\U2\\\\ud83\\\\XDEMO\\\\PP',\n",
       " '',\n",
       " 'c:\\\\U2\\\\ud83\\\\Python\\\\Lib\\\\site-packages',\n",
       " 'c:\\\\U2\\\\ud83\\\\Python\\\\Lib\\\\site-packages\\\\win32',\n",
       " 'c:\\\\U2\\\\ud83\\\\Python\\\\Lib\\\\site-packages\\\\win32\\\\lib',\n",
       " 'c:\\\\U2\\\\ud83\\\\Python\\\\Lib\\\\site-packages\\\\Pythonwin']"
      ]
     },
     "execution_count": 8,
     "metadata": {},
     "output_type": "execute_result"
    }
   ],
   "source": [
    "import sys\n",
    "sys.path"
   ]
  },
  {
   "cell_type": "markdown",
   "metadata": {},
   "source": [
    "#### As long as the code the customer is trying to import is in one of the paths above, python will import the module.\n",
    "\n",
    "In addition the Python Path, there is the OS PATH, you can use the following commands from withing Python to see how your OS PATH environment variable is setup"
   ]
  },
  {
   "cell_type": "code",
   "execution_count": 9,
   "metadata": {},
   "outputs": [
    {
     "name": "stdout",
     "output_type": "stream",
     "text": [
      "('c:\\\\U2\\\\ud83\\\\Python;c:\\\\Users\\\\mrajkowski\\\\AppData\\\\Roaming\\\\Python\\\\Python311\\\\Scripts;C:\\\\Program '\n",
      " 'Files\\\\Thycotic\\\\Agents\\\\ApplicationControl\\\\x64;C:\\\\Program '\n",
      " 'Files\\\\Thycotic\\\\Agents\\\\ApplicationControl\\\\x64;C:\\\\Program '\n",
      " 'Files\\\\Java\\\\jdk-18.0.2.1\\\\bin;C:\\\\Program Files (x86)\\\\Common '\n",
      " 'Files\\\\Oracle\\\\Java\\\\javapath;C:\\\\Windows\\\\system32;C:\\\\Windows;C:\\\\Windows\\\\System32\\\\Wbem;C:\\\\Windows\\\\System32\\\\WindowsPowerShell\\\\v1.0\\\\;C:\\\\Windows\\\\System32\\\\OpenSSH\\\\;C:\\\\U2\\\\ud83\\\\bin;C:\\\\U2\\\\UV\\\\BIN;C:\\\\Program '\n",
      " 'Files\\\\dotnet\\\\;C:\\\\Program Files\\\\Common '\n",
      " 'Files\\\\Oracle\\\\Java\\\\javapath;C:\\\\Program '\n",
      " 'Files\\\\TortoiseGit\\\\bin;C:\\\\Program Files\\\\PuTTY\\\\;C:\\\\Program '\n",
      " 'Files\\\\Git\\\\cmd;C:\\\\U2\\\\ud83\\\\Python;C:\\\\U2\\\\ud83\\\\Python\\\\Scripts;C:\\\\U2\\\\UV\\\\Python;c:\\\\U2\\\\UV\\\\Python\\\\Scripts;C:\\\\Users\\\\mrajkowski\\\\AppData\\\\Local\\\\Microsoft\\\\WindowsApps;C:\\\\Users\\\\mrajkowski\\\\AppData\\\\Local\\\\Programs\\\\Microsoft '\n",
      " 'VS Code\\\\bin;;C:\\\\Program '\n",
      " 'Files\\\\Thycotic\\\\Agents\\\\ApplicationControl\\\\x64;C:\\\\Program '\n",
      " 'Files\\\\Thycotic\\\\Agents\\\\ApplicationControl\\\\x64;C:\\\\Program '\n",
      " 'Files\\\\Java\\\\jdk-18.0.2.1\\\\bin;C:\\\\Program Files (x86)\\\\Common '\n",
      " 'Files\\\\Oracle\\\\Java\\\\javapath;C:\\\\Windows\\\\system32;C:\\\\Windows;C:\\\\Windows\\\\System32\\\\Wbem;C:\\\\Windows\\\\System32\\\\WindowsPowerShell\\\\v1.0\\\\;C:\\\\Windows\\\\System32\\\\OpenSSH\\\\;C:\\\\U2\\\\ud83\\\\bin;C:\\\\U2\\\\UV\\\\BIN;C:\\\\Program '\n",
      " 'Files\\\\dotnet\\\\;C:\\\\Program Files\\\\Common '\n",
      " 'Files\\\\Oracle\\\\Java\\\\javapath;C:\\\\Program '\n",
      " 'Files\\\\TortoiseGit\\\\bin;C:\\\\Program Files\\\\PuTTY\\\\;C:\\\\Program '\n",
      " 'Files\\\\Git\\\\cmd;C:\\\\U2\\\\ud83\\\\Python;C:\\\\U2\\\\ud83\\\\Python\\\\Scripts;C:\\\\U2\\\\UV\\\\Python;c:\\\\U2\\\\UV\\\\Python\\\\Scripts;C:\\\\Users\\\\mrajkowski\\\\AppData\\\\Local\\\\Microsoft\\\\WindowsApps;C:\\\\Users\\\\mrajkowski\\\\AppData\\\\Local\\\\Programs\\\\Microsoft '\n",
      " 'VS Code\\\\bin;')\n"
     ]
    }
   ],
   "source": [
    "import pprint\n",
    "thepath = os.environ[\"PATH\"]\n",
    "pprint.pprint(thepath)"
   ]
  },
  {
   "cell_type": "markdown",
   "metadata": {},
   "source": [
    "#"
   ]
  },
  {
   "cell_type": "markdown",
   "metadata": {},
   "source": [
    "If you are getting any error about not finding your code, look at the sys.path and OS path, to make sure you are looking in the correct place."
   ]
  }
 ],
 "metadata": {
  "kernelspec": {
   "display_name": "Python 3",
   "language": "python",
   "name": "python3"
  },
  "language_info": {
   "codemirror_mode": {
    "name": "ipython",
    "version": 3
   },
   "file_extension": ".py",
   "mimetype": "text/x-python",
   "name": "python",
   "nbconvert_exporter": "python",
   "pygments_lexer": "ipython3",
   "version": "3.11.1"
  }
 },
 "nbformat": 4,
 "nbformat_minor": 4
}
