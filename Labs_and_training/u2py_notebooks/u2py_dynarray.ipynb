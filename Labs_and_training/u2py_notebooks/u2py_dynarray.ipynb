{
 "cells": [
  {
   "cell_type": "markdown",
   "metadata": {},
   "source": [
    "![logo](img/logo.png)\n",
    "# Best Practices for the u2py.File object\n",
    "\n",
    "#### Note if you are having problems with any of these examples, please see the [Troble shooting u2py](Trouble_Shooting_u2py.ipynb#Main)\n"
   ]
  },
  {
   "cell_type": "code",
   "execution_count": 1,
   "metadata": {},
   "outputs": [
    {
     "name": "stdout",
     "output_type": "stream",
     "text": [
      "c:\\U2\\ud83\\XDEMO\n"
     ]
    }
   ],
   "source": [
    "import os\n",
    "xdemoPath = \"c:\\\\U2\\\\ud83\\\\XDEMO\"\n",
    "os.chdir(xdemoPath)\n",
    "print(os.getcwd())\n",
    "import u2py"
   ]
  },
  {
   "cell_type": "markdown",
   "metadata": {},
   "source": [
    "<a id='u2py_file_read'></a>\n",
    "## The u2py.File.Read menthod best practice\n",
    "\n",
    "For the Rocket MultiValue BASIC developer who is use to the read statement that either reads the item or sets the variable to an empty dynamic array.\n",
    "\n",
    "i.e. Of the command in BASIC\n",
    "READ REC FROM FILEVAR, ID ELSE REC = \"\"\n",
    "\n",
    "The following function is part of the u2support.py module, wich is documented in detail in the [u2support.py module doc](u2py_File_Best_Practices.ipynb#U2READ)."
   ]
  },
  {
   "cell_type": "code",
   "execution_count": 10,
   "metadata": {},
   "outputs": [],
   "source": [
    "def U2READ(theFile, itemId, defaultItem):\n",
    "    try:    \n",
    "        if type(theFile).__name__ == 'File':\n",
    "            myFile = theFile\n",
    "        else:\n",
    "            myFile = u2py.File(theFile)\n",
    "\n",
    "\n",
    "        rec = myFile.read(itemId)\n",
    "\n",
    "    except u2py.U2Error:\n",
    "        if type(defaultItem) == u2py.DynArray:\n",
    "            rec = defaultItem\n",
    "        else:\n",
    "            rec = u2py._DynArray(defaultItem)\n",
    "\n",
    "    return rec\n",
    "\n",
    "myrec = U2READ(\"STATES\", \"CA\", \"\")\n",
    "\n"
   ]
  },
  {
   "cell_type": "markdown",
   "metadata": {},
   "source": [
    "### Testing the U2READ\n",
    "\n",
    "Modify the parameters used in the funcion, and see how it works."
   ]
  },
  {
   "cell_type": "code",
   "execution_count": 6,
   "metadata": {},
   "outputs": [
    {
     "name": "stdout",
     "output_type": "stream",
     "text": [
      "no item read\n"
     ]
    }
   ],
   "source": [
    "test = U2READ(\"MEMBERS\", \"not an item\", \"no item read\")\n",
    "print(test)"
   ]
  },
  {
   "cell_type": "markdown",
   "metadata": {},
   "source": [
    "## Ways to display the dynamic array\n",
    "\n",
    "GJDHGKDHGKGKJ"
   ]
  },
  {
   "cell_type": "code",
   "execution_count": 11,
   "metadata": {},
   "outputs": [
    {
     "name": "stdout",
     "output_type": "stream",
     "text": [
      "Print the dynamic array as a string\n",
      "California�West�Pacific\n",
      "\n",
      "print each element of the dynamic array\n",
      "California\n",
      "West\n",
      "Pacific\n",
      "\n",
      "Casting it to a Python list\n",
      "['California', 'West', 'Pacific']\n",
      "\n",
      "Join the list with newline characters\n",
      "California\n",
      "West\n",
      "Pacific\n"
     ]
    }
   ],
   "source": [
    "print(\"Print the dynamic array as a string\")\n",
    "print(str(myrec))\n",
    "print(\"\")\n",
    "\n",
    "print(\"print each element of the dynamic array\")\n",
    "for each_value, delim in myrec:\n",
    "    print(str(each_value))\n",
    "print(\"\")\n",
    "    \n",
    "print(\"Casting it to a Python list\")\n",
    "mylist = myrec.to_list()\n",
    "print(mylist)\n",
    "print(\"\")\n",
    "\n",
    "print(\"Join the list with newline characters\")\n",
    "joined = \"\\n\".join(mylist)\n",
    "print(joined)"
   ]
  },
  {
   "cell_type": "markdown",
   "metadata": {},
   "source": [
    "## A better way of reading and writing data\n",
    "\n",
    "A better way to read and write data to U2 from Python is with the readnamedfields and writenamedfields \n",
    "methods of the u2py.File object."
   ]
  },
  {
   "cell_type": "code",
   "execution_count": 14,
   "metadata": {},
   "outputs": [
    {
     "name": "stdout",
     "output_type": "stream",
     "text": [
      "Help on function readnamedfields in module u2py:\n",
      "\n",
      "readnamedfields(self, *args)\n",
      "    F.readnamedfields(recordid, fieldnnames, [lockflag]) -> new DynArray object -- read the specified fields by name of a record in the file\n",
      "    \n",
      "    fieldnames is a u2py.DynArray object with each of its fields being a name defined in the dictionary file\n",
      "    lockflag is either 0 (default), or [LOCK_EXCLUSIVE or LOCK_SHARED] [ + LOCK_WAIT]\n",
      "    \n",
      "    note: if fieldnames contains names that are not defined in the dictionary, these names are replaced by @ID and no exception is raised\n",
      "\n"
     ]
    }
   ],
   "source": [
    "help(u2py.File.readnamedfields)"
   ]
  },
  {
   "cell_type": "markdown",
   "metadata": {},
   "source": [
    "## Building a helper method arund the u2py.File.readnamedfields method"
   ]
  },
  {
   "cell_type": "code",
   "execution_count": 12,
   "metadata": {},
   "outputs": [],
   "source": [
    "def u2ReadPyDict( theFile, itemId, fieldList ):\n",
    "    if type(theFile).__name__ == 'File':\n",
    "        myFile = theFile\n",
    "    else:\n",
    "        myFile = u2py.File(theFile)\n",
    "\n",
    "    if type(fieldList).__name__ == 'list':\n",
    "        fieldDynArray = u2py.DynArray(fieldList)\n",
    "    else:\n",
    "        raise ValueError(\"Expecting Python list of field names\")\n",
    "        return null\n",
    "\n",
    "    notFound = 0\n",
    "    try:\n",
    "        rec = myFile.readnamedfields(itemId, fieldDynArray)\n",
    "        rec_list = rec.to_list()\n",
    "        my_dict = dict(zip(fieldList, rec_list))\n",
    "    except u2py.U2Error as e:\n",
    "        print( \"item \" + str(itemId) + \" was not read from the file\")\n",
    "        print( str(e))\n",
    "\n",
    "    return my_dict"
   ]
  },
  {
   "cell_type": "markdown",
   "metadata": {},
   "source": [
    "With the above method, we are able to get a Python dictionary item that contains the fields we requested."
   ]
  },
  {
   "cell_type": "code",
   "execution_count": null,
   "metadata": {},
   "outputs": [
    {
     "name": "stdout",
     "output_type": "stream",
     "text": [
      "{'BIRTHDATE': '01/25/1982', 'FIRST_NAME': 'Anita', 'LAST_NAME': 'Johnson'}\n",
      "{'FIRST_NAME': 'Anita', 'LAST_NAME': 'Johnson', 'BIRTHDATE': '01/25/1982'}\n"
     ]
    }
   ],
   "source": [
    "from pprint import pprint\n",
    "fieldlist = [\"FIRST_NAME\", \"LAST_NAME\", \"BIRTHDATE\"]\n",
    "stateInfo = u2ReadPyDict(\"MEMBERS\", \"0110\", fieldlist)\n",
    "pprint(stateInfo)\n",
    "print(stateInfo)"
   ]
  },
  {
   "cell_type": "markdown",
   "metadata": {},
   "source": [
    "##### Note that the birth date is the OCONV (output), and not the inernal value that is stored in the database."
   ]
  },
  {
   "cell_type": "code",
   "execution_count": 27,
   "metadata": {},
   "outputs": [
    {
     "name": "stdout",
     "output_type": "stream",
     "text": [
      "5139\n"
     ]
    }
   ],
   "source": [
    "rec = U2READ(\"MEMBERS\", \"0110\", \"\")\n",
    "# convert dynamic array to list\n",
    "recList = rec.to_list()\n",
    "# since python list starts at location 0, attribut 10 is found at location 9\n",
    "print(recList[9])"
   ]
  },
  {
   "cell_type": "markdown",
   "metadata": {},
   "source": [
    "# The u2support.py module has the u2WritePyDict method, to write the dictionary back to U2.\n",
    "\n",
    "#### Note that it will write back the internal (ICONV) value for any D-typ dictionary that has a conversion code."
   ]
  },
  {
   "cell_type": "code",
   "execution_count": 28,
   "metadata": {},
   "outputs": [],
   "source": [
    "def u2WritePyDict( theFile, itemId, theDictItem ):\n",
    "    if type(theFile).__name__ == 'File':\n",
    "        myFile = theFile\n",
    "    else:\n",
    "        myFile = u2py.File(theFile)\n",
    "\n",
    "    if type(theDictItem).__name__ == 'dict':\n",
    "        fieldNames, fieldValues = zip(*theDictItem.items())\n",
    "        fieldNames = u2py.DynArray(list(fieldNames))\n",
    "        fieldValues = u2py.DynArray(list(fieldValues))\n",
    "    else:\n",
    "        raise ValueError(\"Expecting Python dict item for theDictItem\")\n",
    "        return null\n",
    "\n",
    "    myFile.writenamedfields(itemId,fieldNames, fieldValues )\n",
    "    return"
   ]
  },
  {
   "cell_type": "markdown",
   "metadata": {},
   "source": [
    "The following example, shows how we can change a value, and write it back to U2."
   ]
  },
  {
   "cell_type": "code",
   "execution_count": 37,
   "metadata": {},
   "outputs": [
    {
     "name": "stdout",
     "output_type": "stream",
     "text": [
      "Anita Johnson's birthdate is 12/25/1980\n"
     ]
    }
   ],
   "source": [
    "fieldlist = [\"FIRST_NAME\", \"LAST_NAME\", \"BIRTHDATE\"]\n",
    "member = u2ReadPyDict(\"MEMBERS\", \"0110\", fieldlist)\n",
    "print(member[\"FIRST_NAME\"] + \" \" +member[\"LAST_NAME\"] + \"'s birthdate is \" + member[\"BIRTHDATE\"])\n",
    "newbirthdate = input(\"Enter a new birthdate\")\n",
    "member[\"BIRTHDATE\"] = newbirthdate\n",
    "u2WritePyDict(\"MEMBERS\", \"0110\", member)"
   ]
  }
 ],
 "metadata": {
  "kernelspec": {
   "display_name": "Python 3",
   "language": "python",
   "name": "python3"
  },
  "language_info": {
   "codemirror_mode": {
    "name": "ipython",
    "version": 3
   },
   "file_extension": ".py",
   "mimetype": "text/x-python",
   "name": "python",
   "nbconvert_exporter": "python",
   "pygments_lexer": "ipython3",
   "version": "3.11.1"
  }
 },
 "nbformat": 4,
 "nbformat_minor": 4
}
