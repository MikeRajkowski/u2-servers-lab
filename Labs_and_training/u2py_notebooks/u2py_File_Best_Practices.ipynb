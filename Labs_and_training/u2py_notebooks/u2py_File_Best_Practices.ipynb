{
 "cells": [
  {
   "cell_type": "markdown",
   "metadata": {},
   "source": [
    "![logo](img/logo.png)\n",
    "# Best Practices for the u2py.File object"
   ]
  },
  {
   "cell_type": "code",
   "execution_count": 3,
   "metadata": {},
   "outputs": [
    {
     "name": "stdout",
     "output_type": "stream",
     "text": [
      "C:\\U2\\ud83\\XDEMO\n",
      "MIKE testdfhskjhfskj\n"
     ]
    }
   ],
   "source": [
    "#####################################################################################################\n",
    "# Note that I expect this Jupyter Notebook is stored in the JUPYTER directory of the XDEMO account.  \n",
    "# Prior to working with Python we need to be in XDMEO account.\n",
    "#####################################################################################################\n",
    "import os\n",
    "os.chdir(\"C:\\\\U2\\\\ud83\\\\XDEMO\")\n",
    "print(os.getcwd())\n",
    "import u2py\n",
    "u2py.run(\"WHO\")\n",
    "print(\"MIKE testdfhskjhfskj\")"
   ]
  },
  {
   "cell_type": "markdown",
   "metadata": {},
   "source": [
    "<a id='bp_u2py_File'></a>\n",
    "## Instantiating a u2py.File Object\n",
    "\n",
    "The u2py.File object opens the file when the object is instantiated.  Since it is possible for the file not to open, your code must be written to handle the situation.\n",
    "\n",
    "* In the following you can see the exception that is raised"
   ]
  },
  {
   "cell_type": "code",
   "execution_count": 2,
   "metadata": {},
   "outputs": [
    {
     "ename": "U2Error",
     "evalue": "(14002) No such file or directory",
     "output_type": "error",
     "traceback": [
      "\u001b[1;31m---------------------------------------------------------------------------\u001b[0m",
      "\u001b[1;31mU2Error\u001b[0m                                   Traceback (most recent call last)",
      "\u001b[1;32mC:\\Users\\MRAJKO~1\\AppData\\Local\\Temp/ipykernel_18012/2577456251.py\u001b[0m in \u001b[0;36m<cell line: 1>\u001b[1;34m()\u001b[0m\n\u001b[1;32m----> 1\u001b[1;33m \u001b[0mfile\u001b[0m \u001b[1;33m=\u001b[0m \u001b[0mu2py\u001b[0m\u001b[1;33m.\u001b[0m\u001b[0mFile\u001b[0m\u001b[1;33m(\u001b[0m\u001b[1;34m\"not_a_file_name\"\u001b[0m\u001b[1;33m)\u001b[0m\u001b[1;33m\u001b[0m\u001b[1;33m\u001b[0m\u001b[0m\n\u001b[0m\u001b[0;32m      2\u001b[0m \u001b[0mprint\u001b[0m\u001b[1;33m(\u001b[0m\u001b[1;34m\"this line will NOT ececute since the exception was not handled\"\u001b[0m\u001b[1;33m)\u001b[0m\u001b[1;33m\u001b[0m\u001b[1;33m\u001b[0m\u001b[0m\n",
      "\u001b[1;32mC:\\U2\\ud82\\bin\\u2py.py\u001b[0m in \u001b[0;36m__init__\u001b[1;34m(self, *args)\u001b[0m\n\u001b[0;32m    151\u001b[0m \u001b[1;33m\u001b[0m\u001b[0m\n\u001b[0;32m    152\u001b[0m     \u001b[1;32mdef\u001b[0m \u001b[0m__init__\u001b[0m\u001b[1;33m(\u001b[0m\u001b[0mself\u001b[0m\u001b[1;33m,\u001b[0m \u001b[1;33m*\u001b[0m\u001b[0margs\u001b[0m\u001b[1;33m)\u001b[0m\u001b[1;33m:\u001b[0m\u001b[1;33m\u001b[0m\u001b[1;33m\u001b[0m\u001b[0m\n\u001b[1;32m--> 153\u001b[1;33m         \u001b[0msuper\u001b[0m\u001b[1;33m(\u001b[0m\u001b[0mFile\u001b[0m\u001b[1;33m,\u001b[0m \u001b[0mself\u001b[0m\u001b[1;33m)\u001b[0m\u001b[1;33m.\u001b[0m\u001b[0m__init__\u001b[0m\u001b[1;33m(\u001b[0m\u001b[1;33m*\u001b[0m\u001b[0margs\u001b[0m\u001b[1;33m)\u001b[0m\u001b[1;33m\u001b[0m\u001b[1;33m\u001b[0m\u001b[0m\n\u001b[0m\u001b[0;32m    154\u001b[0m         \u001b[0mself\u001b[0m\u001b[1;33m.\u001b[0m\u001b[0mname\u001b[0m \u001b[1;33m=\u001b[0m \u001b[0msuper\u001b[0m\u001b[1;33m(\u001b[0m\u001b[1;33m)\u001b[0m\u001b[1;33m.\u001b[0m\u001b[0mfileinfo\u001b[0m\u001b[1;33m(\u001b[0m\u001b[0m_VOCNAME\u001b[0m\u001b[1;33m)\u001b[0m\u001b[1;33m\u001b[0m\u001b[1;33m\u001b[0m\u001b[0m\n\u001b[0;32m    155\u001b[0m         \u001b[0mself\u001b[0m\u001b[1;33m.\u001b[0m\u001b[0mpath\u001b[0m \u001b[1;33m=\u001b[0m \u001b[0msuper\u001b[0m\u001b[1;33m(\u001b[0m\u001b[1;33m)\u001b[0m\u001b[1;33m.\u001b[0m\u001b[0mfileinfo\u001b[0m\u001b[1;33m(\u001b[0m\u001b[0m_PATHNAME\u001b[0m\u001b[1;33m)\u001b[0m\u001b[1;33m\u001b[0m\u001b[1;33m\u001b[0m\u001b[0m\n",
      "\u001b[1;31mU2Error\u001b[0m: (14002) No such file or directory"
     ]
    }
   ],
   "source": [
    "file = u2py.File(\"not_a_file_name\")\n",
    "print(\"this line will NOT ececute since the exception was not handled\")"
   ]
  },
  {
   "cell_type": "code",
   "execution_count": null,
   "metadata": {},
   "outputs": [],
   "source": [
    "The better way of handeling the exception is to have Python deal with it:"
   ]
  },
  {
   "cell_type": "code",
   "execution_count": 3,
   "metadata": {},
   "outputs": [
    {
     "name": "stdout",
     "output_type": "stream",
     "text": [
      "(14002) No such file or directory\n",
      "this line will ececute since the exception was handled\n"
     ]
    }
   ],
   "source": [
    "try:\n",
    "    file = u2py.File(\"BADFILE\")\n",
    "except u2py.U2Error as e:\n",
    "    print(str(e))\n",
    "    print(\"this line will ececute since the exception was handled\")"
   ]
  },
  {
   "cell_type": "code",
   "execution_count": null,
   "metadata": {},
   "outputs": [],
   "source": [
    "While the above example just displays the error if the file can not be opened, you can put your take what ever action you deem fit, based on your solution "
   ]
  },
  {
   "cell_type": "markdown",
   "metadata": {},
   "source": [
    "## Minimizing the file opens\n",
    "\n",
    "Similar to the BASIC, it is not recomended to keep opening the same file.  This can occur if/when\n",
    "you put the u2py.File method directly in a Python function or method.\n"
   ]
  },
  {
   "cell_type": "code",
   "execution_count": 6,
   "metadata": {},
   "outputs": [
    {
     "name": "stdout",
     "output_type": "stream",
     "text": [
      "['F', 'VOC', 'D_VOC']\n"
     ]
    }
   ],
   "source": [
    "def bad_function(theid):\n",
    "    file = u2py.File(\"VOC\")\n",
    "    rec = file.read(theid).to_list()\n",
    "    return str(rec)\n",
    "\n",
    "a = bad_function(\"VOC\")\n",
    "print(a)\n",
    "    \n",
    "    "
   ]
  },
  {
   "cell_type": "markdown",
   "metadata": {},
   "source": [
    "### It is better to open the file just once"
   ]
  },
  {
   "cell_type": "code",
   "execution_count": 6,
   "metadata": {},
   "outputs": [
    {
     "name": "stdout",
     "output_type": "stream",
     "text": [
      "['Johnson', 'Anita', 'Y', 'Mrs', '50 Portobello Road', 'New Glasgow', 'NE', '01870', 'F', '5139', '', '9795570025', 'ajohnson@mv.rs.com', 'monkey', 'U2FsdGVkX18UefufEjOFs2GUdzdF3Y89ZYiosyRzt+8=\\n', 'ajohnson.jpg', 'A', ['9723122312945378', '5700222144699144', '9254766688143698', '4699144669214769'], ['U2FsdGVkX1/Hy9eK3j1yUEM5MtJ+XOsPGnGl95FzkitbBbE6eY4tX5ENetHMxlwj\\n', 'U2FsdGVkX1+TB/WIrJXzzZUnAojZoAcqvyumYKmQ4VDs70xVrnC59fsa+a/K9Q1Y\\n', 'U2FsdGVkX1+XOujSPxfiuQTW/QNsfgX7R7Rp7Z1e6n2mi0ebK2DYS5r4M3oG+MRF\\n', 'U2FsdGVkX1/bVAxPZZ1StQUcib8ZLI1SarQXAUImDYUuQz4qe4LGRVhwJPRgskvx\\n'], ['AMEX', 'V', 'MC', 'MC'], ['18019', '17989', '16834', '17930'], ['025', '570', '925', '032']]\n"
     ]
    }
   ],
   "source": [
    "try:\n",
    "    myfile = u2py.File(\"MEMBERS\")\n",
    "except u2py.U2Error as e:\n",
    "    print(\"problem with opening file\")\n",
    "    raise e\n",
    "    \n",
    "def good_function(theid):\n",
    "    rec = myfile.read(theid).to_list()\n",
    "    return str(rec)\n",
    "\n",
    "a = good_function(\"0110\")\n",
    "print(a)"
   ]
  },
  {
   "cell_type": "markdown",
   "metadata": {},
   "source": [
    "<a id='u2py_file_read'></a>\n",
    "## The u2pu.File.Read menthod best practice\n",
    "\n",
    "For the Rocket MultiValue BASIC developer who is use to the read statement that either reads the item or sets the variable to an empty dynamic array.\n",
    "\n",
    "i.e. Of the command in BASIC\n",
    "READ REC FROM FILEVAR, ID ELSE REC = \"\"\n",
    "\n",
    "The following function is part of the u2support.py module, wich is documented in detail in the [u2support.py module doc](u2support_py.ipynb#U2READ)."
   ]
  },
  {
   "cell_type": "code",
   "execution_count": 8,
   "metadata": {},
   "outputs": [
    {
     "name": "stdout",
     "output_type": "stream",
     "text": [
      "\n"
     ]
    }
   ],
   "source": [
    "def U2READ(theFile, itemId, defaultItem):\n",
    "    try:    \n",
    "        if type(theFile).__name__ == 'File':\n",
    "            myFile = theFile\n",
    "        else:\n",
    "            myFile = u2py.File(theFile)\n",
    "\n",
    "\n",
    "        rec = myFile.read(itemId)\n",
    "\n",
    "    except u2py.U2Error:\n",
    "        if type(defaultItem) == u2py.DynArray:\n",
    "            rec = defaultItem\n",
    "        else:\n",
    "            rec = u2py._DynArray(defaultItem)\n",
    "\n",
    "    return rec\n",
    "\n",
    "myrec = U2READ(\"VOC\", \"VOCjdskjfhskj\", \"\")\n",
    "print(str(myrec))"
   ]
  }
 ],
 "metadata": {
  "kernelspec": {
   "display_name": "Python 3",
   "language": "python",
   "name": "python3"
  },
  "language_info": {
   "codemirror_mode": {
    "name": "ipython",
    "version": 3
   },
   "file_extension": ".py",
   "mimetype": "text/x-python",
   "name": "python",
   "nbconvert_exporter": "python",
   "pygments_lexer": "ipython3",
   "version": "3.11.1"
  }
 },
 "nbformat": 4,
 "nbformat_minor": 4
}
