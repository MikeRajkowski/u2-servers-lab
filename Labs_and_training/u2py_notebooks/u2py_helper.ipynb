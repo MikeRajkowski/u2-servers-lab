{
 "cells": [
  {
   "cell_type": "markdown",
   "metadata": {},
   "source": [
    "![logo](img/logo.png)\n",
    "\n",
    "# The xtoolsub.py helper module\n",
    "\n",
    "This simple example uses the xtoolsub.py module and provides some helpful functions.\n"
   ]
  },
  {
   "cell_type": "code",
   "execution_count": 1,
   "metadata": {},
   "outputs": [
    {
     "name": "stdout",
     "output_type": "stream",
     "text": [
      "c:\\U2\\ud83\\XDEMO\n"
     ]
    }
   ],
   "source": [
    "import os\n",
    "xdemoPath = \"c:\\\\U2\\\\ud83\\\\XDEMO\"\n",
    "os.chdir(xdemoPath)\n",
    "print(os.getcwd())\n",
    "import u2py\n",
    "import xtoolsub"
   ]
  },
  {
   "cell_type": "markdown",
   "metadata": {},
   "source": [
    "\n",
    "## The xtoolsub.Logto menthod \n",
    "\n",
    "Lets start out with the simple form of the u2py.Logto Method.\n",
    "\n"
   ]
  },
  {
   "cell_type": "code",
   "execution_count": 2,
   "metadata": {},
   "outputs": [
    {
     "name": "stdout",
     "output_type": "stream",
     "text": [
      "Help on function LogtoAccount in module xtoolsub:\n",
      "\n",
      "LogtoAccount(newAccount)\n",
      "    Logto a U2 account\n",
      "    \n",
      "    Parameters\n",
      "    ----------\n",
      "    newAccount : String\n",
      "                 Account name, must be defined in the U2 Database, use xtoolsub.GetAccounts\n",
      "                 to get a list of accounts\n",
      "    Raises\n",
      "    ------\n",
      "    NameError\n",
      "                 If the newAccount is not valid, or the logto fails.\n",
      "\n"
     ]
    }
   ],
   "source": [
    "help(xtoolsub.LogtoAccount)"
   ]
  },
  {
   "cell_type": "markdown",
   "metadata": {},
   "source": [
    "### Test the method with a bad account name"
   ]
  },
  {
   "cell_type": "code",
   "execution_count": 3,
   "metadata": {},
   "outputs": [
    {
     "ename": "NameError",
     "evalue": "not a valid account",
     "output_type": "error",
     "traceback": [
      "\u001b[1;31m---------------------------------------------------------------------------\u001b[0m",
      "\u001b[1;31mNameError\u001b[0m                                 Traceback (most recent call last)",
      "Cell \u001b[1;32mIn[3], line 1\u001b[0m\n\u001b[1;32m----> 1\u001b[0m \u001b[43mxtoolsub\u001b[49m\u001b[38;5;241;43m.\u001b[39;49m\u001b[43mLogtoAccount\u001b[49m\u001b[43m(\u001b[49m\u001b[38;5;124;43m\"\u001b[39;49m\u001b[38;5;124;43mnot a valid account\u001b[39;49m\u001b[38;5;124;43m\"\u001b[39;49m\u001b[43m)\u001b[49m\n",
      "File \u001b[1;32mC:\\U2\\ud83\\XDEMO\\PP\\xtoolsub.py:66\u001b[0m, in \u001b[0;36mLogtoAccount\u001b[1;34m(newAccount)\u001b[0m\n\u001b[0;32m     63\u001b[0m rtnVal, rtnStatus \u001b[38;5;241m=\u001b[39m callXTOOLSUB(\u001b[38;5;241m2\u001b[39m, newAccount)\n\u001b[0;32m     65\u001b[0m \u001b[38;5;28;01mif\u001b[39;00m \u001b[38;5;28mint\u001b[39m(rtnStatus) \u001b[38;5;241m>\u001b[39m \u001b[38;5;241m0\u001b[39m:\n\u001b[1;32m---> 66\u001b[0m     \u001b[38;5;28;01mraise\u001b[39;00m \u001b[38;5;167;01mNameError\u001b[39;00m(newAccount)\n\u001b[0;32m     68\u001b[0m \u001b[38;5;28;01mreturn\u001b[39;00m\n",
      "\u001b[1;31mNameError\u001b[0m: not a valid account"
     ]
    }
   ],
   "source": [
    "xtoolsub.LogtoAccount(\"not a valid account\")"
   ]
  },
  {
   "cell_type": "markdown",
   "metadata": {},
   "source": [
    "#### Because the method raises an eception if the logto fails, you can use it to prevent you from thinking you are in an different account.\n",
    "\n",
    "You can use the method with try/except logic\n",
    "\n",
    "For Example:"
   ]
  },
  {
   "cell_type": "code",
   "execution_count": 4,
   "metadata": {},
   "outputs": [],
   "source": [
    "try:\n",
    "    xtoolsub.LogtoAccount(\"XDEMO\")\n",
    "except Exception as e:\n",
    "    print(\"we caught the exception: \" + str(e) )\n",
    "\n"
   ]
  },
  {
   "cell_type": "markdown",
   "metadata": {},
   "source": [
    "## Note that if you do not know what Accounts you have on your system, you can use the GetAccounts function."
   ]
  },
  {
   "cell_type": "code",
   "execution_count": 5,
   "metadata": {},
   "outputs": [
    {
     "name": "stdout",
     "output_type": "stream",
     "text": [
      "['sys', 'XDEMO', 'XDEMO.BAK', 'demo', 'Master_sys', 'ud83_Demo', 'Demo', 'ud83_sys']\n"
     ]
    }
   ],
   "source": [
    "accountList = xtoolsub.GetAccounts()\n",
    "print(accountList)"
   ]
  },
  {
   "cell_type": "markdown",
   "metadata": {},
   "source": [
    "#### Note that the function is calling the XTOOLSUB subroutine which know weather to check UD.ACCOUNT OR UV.ACCOUNT, depending on which database you are on.\n",
    "\n",
    "There is also a function that till tell you if you are using UniData or UniVerse\n"
   ]
  },
  {
   "cell_type": "code",
   "execution_count": 6,
   "metadata": {},
   "outputs": [
    {
     "name": "stdout",
     "output_type": "stream",
     "text": [
      "1\n"
     ]
    },
    {
     "data": {
      "text/plain": [
       "'UniData'"
      ]
     },
     "execution_count": 6,
     "metadata": {},
     "output_type": "execute_result"
    }
   ],
   "source": [
    "xtoolsub.GetDatabaseType()\n"
   ]
  },
  {
   "cell_type": "markdown",
   "metadata": {},
   "source": [
    "Which is usefull to Customers and Partners that are writing code for oth platforms, and want/need to handle it programaticly.                 \n",
    "\n",
    "### Another useful function is the GetFileList function"
   ]
  },
  {
   "cell_type": "code",
   "execution_count": 7,
   "metadata": {},
   "outputs": [
    {
     "name": "stdout",
     "output_type": "stream",
     "text": [
      "['&MAP&', '&report&', 'AE_COMS', 'AE_DOC', 'AE_SCRATCH', 'AIBP', 'BP', 'CTLG', 'CTLGTB', 'DV_SQLColumns', 'DV_SQLSpecialColumns', 'DV_SQLStatistics', 'DV_SQLTables', 'EDA_DATASOURCE', 'EDA_DRIVER', 'EDA_EXCEPTION', 'ENGLISH.MSG', 'ERRMSG', 'FUR_REV', 'HELP.FILE', 'INCLUDE', 'LABBP', 'LOCATIONS', 'M64', 'MEMBERS', 'MENUFILE', 'MULTITEST', 'NEW_REGION', 'PBP', 'PLOCATION', 'PP', 'PRODUCTS', 'PRODUCT_REVIEW', 'REGION', 'RENTAL_DETAILS', 'REP_FAILOVER_LOG', 'SAVEDLISTS', 'SAVEDLISTSL', 'STATES', 'STATES_MAPS', 'TEST_INDEX', 'TRANS_COMMIT_LOG', 'UD_SQLTABLES', 'VOC', 'WORLD_MAP', 'XDBP', 'ZIPCODES', '_DEBUG_', '_EDAMAP_', '_EDAXMAP_', '_ENCINFO_', '_HOLD_', '_KEYSTORE_', '_MAP_', '_PH_', '_XML_', '__SCHEMA__MAP', '__SCHEMA__PROC', '__V__VIEW', 'privilege', 'savedlists', 'voc']\n"
     ]
    }
   ],
   "source": [
    "fileList = xtoolsub.GetFileList()\n",
    "print(fileList)"
   ]
  },
  {
   "cell_type": "markdown",
   "metadata": {},
   "source": [
    "Please explore the xtoolsub.py for other useful methods and functions."
   ]
  }
 ],
 "metadata": {
  "kernelspec": {
   "display_name": "Python 3",
   "language": "python",
   "name": "python3"
  },
  "language_info": {
   "codemirror_mode": {
    "name": "ipython",
    "version": 3
   },
   "file_extension": ".py",
   "mimetype": "text/x-python",
   "name": "python",
   "nbconvert_exporter": "python",
   "pygments_lexer": "ipython3",
   "version": "3.11.1"
  }
 },
 "nbformat": 4,
 "nbformat_minor": 4
}
